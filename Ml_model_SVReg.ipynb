{
 "cells": [
  {
   "cell_type": "markdown",
   "id": "f7b2f102",
   "metadata": {},
   "source": [
    "# Modelos de ML"
   ]
  },
  {
   "cell_type": "markdown",
   "id": "4c298704",
   "metadata": {},
   "source": [
    "En esta sección se cargaran todos los datos que han sido transformados y limpiados para realizar feature engineering, optimización de hiperparametros y reducción de dimensionalidad."
   ]
  },
  {
   "cell_type": "code",
   "execution_count": 1,
   "id": "a39970ca",
   "metadata": {},
   "outputs": [],
   "source": [
    "import pandas as pd\n",
    "import numpy as np\n",
    "import seaborn as sns\n",
    "import matplotlib.pyplot as plt\n",
    "from sklearn.model_selection import train_test_split"
   ]
  },
  {
   "cell_type": "markdown",
   "id": "e6374fa9",
   "metadata": {},
   "source": [
    "## Carga de los datos"
   ]
  },
  {
   "cell_type": "code",
   "execution_count": 2,
   "id": "59419580",
   "metadata": {},
   "outputs": [],
   "source": [
    "df = pd.read_csv(\"data_clean.csv\", sep = \";\")"
   ]
  },
  {
   "cell_type": "code",
   "execution_count": 3,
   "id": "b85dd85d",
   "metadata": {},
   "outputs": [
    {
     "data": {
      "text/html": [
       "<div>\n",
       "<style scoped>\n",
       "    .dataframe tbody tr th:only-of-type {\n",
       "        vertical-align: middle;\n",
       "    }\n",
       "\n",
       "    .dataframe tbody tr th {\n",
       "        vertical-align: top;\n",
       "    }\n",
       "\n",
       "    .dataframe thead th {\n",
       "        text-align: right;\n",
       "    }\n",
       "</style>\n",
       "<table border=\"1\" class=\"dataframe\">\n",
       "  <thead>\n",
       "    <tr style=\"text-align: right;\">\n",
       "      <th></th>\n",
       "      <th>genero</th>\n",
       "      <th>categoria</th>\n",
       "      <th>ind_mora_vigente</th>\n",
       "      <th>cartera_castigada</th>\n",
       "      <th>rechazo_credito</th>\n",
       "      <th>cant_moras_30_ult_12_meses</th>\n",
       "      <th>cant_moras_60_ult_12_meses</th>\n",
       "      <th>cant_moras_90_ult_12_meses</th>\n",
       "      <th>tenencia_tc</th>\n",
       "      <th>tiene_consumo</th>\n",
       "      <th>...</th>\n",
       "      <th>cat_ingreso_nom pen</th>\n",
       "      <th>cat_ingreso_pen</th>\n",
       "      <th>rep_calif_cred_A</th>\n",
       "      <th>rep_calif_cred_B</th>\n",
       "      <th>rep_calif_cred_C</th>\n",
       "      <th>rep_calif_cred_D</th>\n",
       "      <th>rep_calif_cred_E</th>\n",
       "      <th>rep_calif_cred_F</th>\n",
       "      <th>rep_calif_cred_G</th>\n",
       "      <th>rep_calif_cred_H</th>\n",
       "    </tr>\n",
       "  </thead>\n",
       "  <tbody>\n",
       "    <tr>\n",
       "      <th>0</th>\n",
       "      <td>1</td>\n",
       "      <td>1.0</td>\n",
       "      <td>0</td>\n",
       "      <td>0</td>\n",
       "      <td>0</td>\n",
       "      <td>0</td>\n",
       "      <td>0</td>\n",
       "      <td>0</td>\n",
       "      <td>0</td>\n",
       "      <td>0</td>\n",
       "      <td>...</td>\n",
       "      <td>0</td>\n",
       "      <td>0</td>\n",
       "      <td>0</td>\n",
       "      <td>0</td>\n",
       "      <td>1</td>\n",
       "      <td>0</td>\n",
       "      <td>0</td>\n",
       "      <td>0</td>\n",
       "      <td>0</td>\n",
       "      <td>0</td>\n",
       "    </tr>\n",
       "    <tr>\n",
       "      <th>1</th>\n",
       "      <td>1</td>\n",
       "      <td>1.0</td>\n",
       "      <td>0</td>\n",
       "      <td>0</td>\n",
       "      <td>0</td>\n",
       "      <td>0</td>\n",
       "      <td>0</td>\n",
       "      <td>0</td>\n",
       "      <td>0</td>\n",
       "      <td>0</td>\n",
       "      <td>...</td>\n",
       "      <td>0</td>\n",
       "      <td>0</td>\n",
       "      <td>0</td>\n",
       "      <td>0</td>\n",
       "      <td>0</td>\n",
       "      <td>0</td>\n",
       "      <td>0</td>\n",
       "      <td>1</td>\n",
       "      <td>0</td>\n",
       "      <td>0</td>\n",
       "    </tr>\n",
       "    <tr>\n",
       "      <th>2</th>\n",
       "      <td>0</td>\n",
       "      <td>1.0</td>\n",
       "      <td>0</td>\n",
       "      <td>0</td>\n",
       "      <td>0</td>\n",
       "      <td>0</td>\n",
       "      <td>0</td>\n",
       "      <td>0</td>\n",
       "      <td>0</td>\n",
       "      <td>1</td>\n",
       "      <td>...</td>\n",
       "      <td>0</td>\n",
       "      <td>0</td>\n",
       "      <td>0</td>\n",
       "      <td>0</td>\n",
       "      <td>1</td>\n",
       "      <td>0</td>\n",
       "      <td>0</td>\n",
       "      <td>0</td>\n",
       "      <td>0</td>\n",
       "      <td>0</td>\n",
       "    </tr>\n",
       "    <tr>\n",
       "      <th>3</th>\n",
       "      <td>1</td>\n",
       "      <td>1.0</td>\n",
       "      <td>0</td>\n",
       "      <td>0</td>\n",
       "      <td>0</td>\n",
       "      <td>0</td>\n",
       "      <td>0</td>\n",
       "      <td>0</td>\n",
       "      <td>0</td>\n",
       "      <td>0</td>\n",
       "      <td>...</td>\n",
       "      <td>0</td>\n",
       "      <td>0</td>\n",
       "      <td>0</td>\n",
       "      <td>0</td>\n",
       "      <td>1</td>\n",
       "      <td>0</td>\n",
       "      <td>0</td>\n",
       "      <td>0</td>\n",
       "      <td>0</td>\n",
       "      <td>0</td>\n",
       "    </tr>\n",
       "    <tr>\n",
       "      <th>4</th>\n",
       "      <td>1</td>\n",
       "      <td>2.0</td>\n",
       "      <td>0</td>\n",
       "      <td>0</td>\n",
       "      <td>0</td>\n",
       "      <td>0</td>\n",
       "      <td>0</td>\n",
       "      <td>0</td>\n",
       "      <td>0</td>\n",
       "      <td>0</td>\n",
       "      <td>...</td>\n",
       "      <td>0</td>\n",
       "      <td>1</td>\n",
       "      <td>0</td>\n",
       "      <td>1</td>\n",
       "      <td>0</td>\n",
       "      <td>0</td>\n",
       "      <td>0</td>\n",
       "      <td>0</td>\n",
       "      <td>0</td>\n",
       "      <td>0</td>\n",
       "    </tr>\n",
       "  </tbody>\n",
       "</table>\n",
       "<p>5 rows × 75 columns</p>\n",
       "</div>"
      ],
      "text/plain": [
       "   genero  categoria  ind_mora_vigente  cartera_castigada  rechazo_credito  \\\n",
       "0       1        1.0                 0                  0                0   \n",
       "1       1        1.0                 0                  0                0   \n",
       "2       0        1.0                 0                  0                0   \n",
       "3       1        1.0                 0                  0                0   \n",
       "4       1        2.0                 0                  0                0   \n",
       "\n",
       "   cant_moras_30_ult_12_meses  cant_moras_60_ult_12_meses  \\\n",
       "0                           0                           0   \n",
       "1                           0                           0   \n",
       "2                           0                           0   \n",
       "3                           0                           0   \n",
       "4                           0                           0   \n",
       "\n",
       "   cant_moras_90_ult_12_meses  tenencia_tc  tiene_consumo  ...  \\\n",
       "0                           0            0              0  ...   \n",
       "1                           0            0              0  ...   \n",
       "2                           0            0              1  ...   \n",
       "3                           0            0              0  ...   \n",
       "4                           0            0              0  ...   \n",
       "\n",
       "   cat_ingreso_nom pen  cat_ingreso_pen  rep_calif_cred_A  rep_calif_cred_B  \\\n",
       "0                    0                0                 0                 0   \n",
       "1                    0                0                 0                 0   \n",
       "2                    0                0                 0                 0   \n",
       "3                    0                0                 0                 0   \n",
       "4                    0                1                 0                 1   \n",
       "\n",
       "   rep_calif_cred_C  rep_calif_cred_D  rep_calif_cred_E  rep_calif_cred_F  \\\n",
       "0                 1                 0                 0                 0   \n",
       "1                 0                 0                 0                 1   \n",
       "2                 1                 0                 0                 0   \n",
       "3                 1                 0                 0                 0   \n",
       "4                 0                 0                 0                 0   \n",
       "\n",
       "   rep_calif_cred_G  rep_calif_cred_H  \n",
       "0                 0                 0  \n",
       "1                 0                 0  \n",
       "2                 0                 0  \n",
       "3                 0                 0  \n",
       "4                 0                 0  \n",
       "\n",
       "[5 rows x 75 columns]"
      ]
     },
     "execution_count": 3,
     "metadata": {},
     "output_type": "execute_result"
    }
   ],
   "source": [
    "df.head()"
   ]
  },
  {
   "cell_type": "markdown",
   "id": "610c9ca6",
   "metadata": {},
   "source": [
    "## Selección de modelos\n",
    "\n",
    "Para este analisis se realizaran las comparaciones de performance utilizando 3 modelos:\n",
    "\n",
    "1. Gradient Boosting tree\n",
    "2. Random Forest\n",
    "3. Support vector machine\n",
    "4. Neural networks"
   ]
  },
  {
   "cell_type": "code",
   "execution_count": 4,
   "id": "bc71ffe2",
   "metadata": {},
   "outputs": [],
   "source": [
    "X = df.drop([\"gasto_familiar\"], axis = 1)\n",
    "Y = df[\"gasto_familiar\"]"
   ]
  },
  {
   "cell_type": "code",
   "execution_count": 5,
   "id": "4e8800e2",
   "metadata": {},
   "outputs": [],
   "source": [
    "X_train, X_test, y_train, y_test = train_test_split(X, Y, test_size=0.2,random_state=7)"
   ]
  },
  {
   "cell_type": "markdown",
   "id": "7f765f05",
   "metadata": {},
   "source": [
    "## Modelo sencillo para analisis de features importances"
   ]
  },
  {
   "cell_type": "code",
   "execution_count": null,
   "id": "564d2bce",
   "metadata": {},
   "outputs": [
    {
     "name": "stdout",
     "output_type": "stream",
     "text": [
      "Fitting 5 folds for each of 4 candidates, totalling 20 fits\n"
     ]
    },
    {
     "name": "stderr",
     "output_type": "stream",
     "text": [
      "[Parallel(n_jobs=-1)]: Using backend LokyBackend with 8 concurrent workers.\n"
     ]
    }
   ],
   "source": [
    "from sklearn.svm import SVR\n",
    "from sklearn.preprocessing import StandardScaler\n",
    "from sklearn.pipeline import make_pipeline\n",
    "from sklearn.model_selection import GridSearchCV\n",
    "\n",
    "parameters = {'kernel':('linear', 'rbf'), 'C':[1, 10]}\n",
    "svr = SVR()\n",
    "model = GridSearchCV(svr, parameters, n_jobs = -1, verbose = 2)\n",
    "model.fit(X_train, y_train)"
   ]
  },
  {
   "cell_type": "code",
   "execution_count": null,
   "id": "24b9c931",
   "metadata": {},
   "outputs": [],
   "source": [
    "final = model.best_estimator_"
   ]
  },
  {
   "cell_type": "code",
   "execution_count": 1,
   "id": "b96990c0",
   "metadata": {},
   "outputs": [],
   "source": [
    "import joblib\n",
    "joblib.dump(final, \"modelo del mejor estimador\")"
   ]
  },
  {
   "cell_type": "code",
   "execution_count": null,
   "id": "1cd39d1a",
   "metadata": {},
   "outputs": [],
   "source": []
  }
 ],
 "metadata": {
  "kernelspec": {
   "display_name": "Python 3 (ipykernel)",
   "language": "python",
   "name": "python3"
  },
  "language_info": {
   "codemirror_mode": {
    "name": "ipython",
    "version": 3
   },
   "file_extension": ".py",
   "mimetype": "text/x-python",
   "name": "python",
   "nbconvert_exporter": "python",
   "pygments_lexer": "ipython3",
   "version": "3.8.10"
  }
 },
 "nbformat": 4,
 "nbformat_minor": 5
}
