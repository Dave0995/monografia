{
 "cells": [
  {
   "cell_type": "code",
   "execution_count": 1,
   "id": "868a4b9e",
   "metadata": {},
   "outputs": [],
   "source": [
    "import warnings\n",
    "warnings.simplefilter(\"ignore\")"
   ]
  },
  {
   "cell_type": "code",
   "execution_count": 2,
   "id": "5e180702",
   "metadata": {},
   "outputs": [
    {
     "name": "stderr",
     "output_type": "stream",
     "text": [
      "21/10/28 23:18:22 WARN NativeCodeLoader: Unable to load native-hadoop library for your platform... using builtin-java classes where applicable\n",
      "Using Spark's default log4j profile: org/apache/spark/log4j-defaults.properties\n",
      "Setting default log level to \"WARN\".\n",
      "To adjust logging level use sc.setLogLevel(newLevel). For SparkR, use setLogLevel(newLevel).\n"
     ]
    }
   ],
   "source": [
    "from pyspark import SparkContext\n",
    "from pyspark.sql.types import *\n",
    "from pyspark.sql.functions import col, udf, when, lower\n",
    "from pyspark.sql import SparkSession, SQLContext\n",
    "\n",
    "spark = SparkSession.builder.master(\"local[*]\").getOrCreate()\n",
    "sc = SparkContext.getOrCreate()\n",
    "sqlCtx = SQLContext(sc)"
   ]
  },
  {
   "cell_type": "markdown",
   "id": "954c59ee",
   "metadata": {},
   "source": [
    "## Carga del dataset"
   ]
  },
  {
   "cell_type": "code",
   "execution_count": 3,
   "id": "ddbecfb0",
   "metadata": {},
   "outputs": [],
   "source": [
    "schema = StructType([StructField(\"periodo\", IntegerType(), True),\n",
    "                     StructField(\"id_cli\", LongType(), True),\n",
    "                     StructField(\"fecha_nacimiento\", LongType(), True),\n",
    "                     StructField(\"edad\", DoubleType(), True),\n",
    "                     StructField(\"genero\", StringType(), True),\n",
    "                     StructField(\"estado_civil\", StringType(), True),\n",
    "                     StructField(\"nivel_academico\", StringType(), True),\n",
    "                     StructField(\"profesion\", StringType(), True),\n",
    "                     StructField(\"ocupacion\", StringType(), True),\n",
    "                     StructField(\"tipo_vivienda\", StringType(), True),\n",
    "                     StructField(\"ult_actual\", LongType(), True),\n",
    "                     StructField(\"categoria\", ShortType(), True),\n",
    "                     StructField(\"codigo_ciiu\", LongType(), True),\n",
    "                     StructField(\"ind_mora_vigente\", StringType(), True),\n",
    "                     StructField(\"cartera_castigada\", StringType(), True),\n",
    "                     StructField(\"ciudad_residencia\", StringType(), True),\n",
    "                     StructField(\"departamento_residencia\", StringType(), True),\n",
    "                     StructField(\"ciudad_laboral\", StringType(), True),\n",
    "                     StructField(\"departamento_laboral\", StringType(), True),\n",
    "                     StructField(\"rechazo_credito\", StringType(), True),\n",
    "                     StructField(\"mora_max\", LongType(), True),\n",
    "                     StructField(\"cant_moras_30_ult_12_meses\", LongType(), True),\n",
    "                     StructField(\"cant_moras_60_ult_12_meses\", LongType(), True),\n",
    "                     StructField(\"cant_moras_90_ult_12_meses\", LongType(), True),\n",
    "                     StructField(\"cupo_total_tc\", DoubleType(), True),\n",
    "                     StructField(\"tenencia_tc\", StringType(), True),\n",
    "                     StructField(\"cuota_tc_bancolombia\", DoubleType(), True),\n",
    "                     StructField(\"tiene_consumo\", StringType(), True),\n",
    "                     StructField(\"tiene_crediagil\", StringType(), True),\n",
    "                     StructField(\"nro_tot_cuentas\", LongType(), True),\n",
    "                     StructField(\"ctas_activas\", LongType(), True),\n",
    "                     StructField(\"tiene_ctas_activas\", StringType(), True),\n",
    "                     StructField(\"ctas_embargadas\", LongType(), True),\n",
    "                     StructField(\"tiene_ctas_embargadas\", StringType(), True),\n",
    "                     StructField(\"pension_fopep\", StringType(), True),\n",
    "                     StructField(\"cuota_cred_hipot\", DoubleType(), True),\n",
    "                     StructField(\"tiene_cred_hipo_1\", StringType(), True),\n",
    "                     StructField(\"tiene_cred_hipo_2\", StringType(), True),\n",
    "                     StructField(\"mediana_nom3\", DoubleType(), True),\n",
    "                     StructField(\"mediana_pen3\", DoubleType(), True),\n",
    "                     StructField(\"ingreso_nompen\", DoubleType(), True),\n",
    "                     StructField(\"cat_ingreso\", StringType(), True),\n",
    "                     StructField(\"ingreso_final\", DoubleType(), True),\n",
    "                     StructField(\"cant_mora_30_tdc_ult_3m_sf\", DoubleType(), True),\n",
    "                     StructField(\"cant_mora_30_consum_ult_3m_sf\", DoubleType(), True),\n",
    "                     StructField(\"cuota_de_vivienda\", DoubleType(), True),\n",
    "                     StructField(\"cuota_de_consumo\", DoubleType(), True),\n",
    "                     StructField(\"cuota_rotativos\", DoubleType(), True),\n",
    "                     StructField(\"cuota_tarjeta_de_credito\", DoubleType(), True),\n",
    "                     StructField(\"cuota_de_sector_solidario\", DoubleType(), True),\n",
    "                     StructField(\"cuota_sector_real_comercio\", DoubleType(), True),\n",
    "                     StructField(\"cupo_tc_mdo\", DoubleType(), True),\n",
    "                     StructField(\"saldo_prom3_tdc_mdo\", DoubleType(), True),\n",
    "                     StructField(\"cuota_tc_mdo\", DoubleType(), True),\n",
    "                     StructField(\"saldo_no_rot_mdo\", DoubleType(), True),\n",
    "                     StructField(\"cuota_libranza_sf\", DoubleType(), True),\n",
    "                     StructField(\"cant_oblig_tot_sf\", DoubleType(), True),\n",
    "                     StructField(\"cant_cast_ult_12m_sr\", DoubleType(), True),\n",
    "                     StructField(\"ind\", DoubleType(), True),\n",
    "                     StructField(\"rep_calif_cred\", StringType(), True),\n",
    "                     StructField(\"pol_centr_ext\", DoubleType(), True),\n",
    "                     StructField(\"convenio_lib\", StringType(), True),\n",
    "                     StructField(\"ingreso_nomina\", DoubleType(), True),\n",
    "                     StructField(\"ingreso_seguridad_social\", DoubleType(), True),\n",
    "                     StructField(\"gasto_familiar\", DoubleType(), True),\n",
    "                    ])\n"
   ]
  },
  {
   "cell_type": "code",
   "execution_count": 4,
   "id": "a5a2db45",
   "metadata": {},
   "outputs": [],
   "source": [
    "df = sqlCtx.read.format(\"csv\") \\\n",
    "           .option(\"header\", False) \\\n",
    "           .option(\"delimiter\", \";\") \\\n",
    "           .schema(schema) \\\n",
    "           .load(\"Dataton_train_semicolon.csv\")"
   ]
  },
  {
   "cell_type": "code",
   "execution_count": 5,
   "id": "622fc510",
   "metadata": {},
   "outputs": [],
   "source": [
    "sampling = df.sample(False, 0.025, 95757)"
   ]
  },
  {
   "cell_type": "code",
   "execution_count": 6,
   "id": "b0e9ffac",
   "metadata": {},
   "outputs": [
    {
     "name": "stderr",
     "output_type": "stream",
     "text": [
      "21/10/28 23:18:27 WARN package: Truncated the string representation of a plan since it was too large. This behavior can be adjusted by setting 'spark.sql.debug.maxToStringFields'.\n",
      "                                                                                \r"
     ]
    }
   ],
   "source": [
    "#sampling.repartition(1).write.mode('overwrite').parquet('tmp/sampling')\n",
    "sampling.repartition(1).write.csv(\"sample.csv\")"
   ]
  },
  {
   "cell_type": "markdown",
   "id": "91c9ce2d",
   "metadata": {},
   "source": [
    "Se transformará el dataset en formato parquet para un mejor uso del mismo"
   ]
  },
  {
   "cell_type": "code",
   "execution_count": 7,
   "id": "24ad9861",
   "metadata": {},
   "outputs": [],
   "source": [
    "#df.repartition(1).write.mode('overwrite').parquet('tmp/dataton')"
   ]
  }
 ],
 "metadata": {
  "environment": {
   "kernel": "python3",
   "name": "common-cpu.m82",
   "type": "gcloud",
   "uri": "gcr.io/deeplearning-platform-release/base-cpu:m82"
  },
  "kernelspec": {
   "display_name": "Python 3",
   "language": "python",
   "name": "python3"
  },
  "language_info": {
   "codemirror_mode": {
    "name": "ipython",
    "version": 3
   },
   "file_extension": ".py",
   "mimetype": "text/x-python",
   "name": "python",
   "nbconvert_exporter": "python",
   "pygments_lexer": "ipython3",
   "version": "3.7.10"
  }
 },
 "nbformat": 4,
 "nbformat_minor": 5
}
