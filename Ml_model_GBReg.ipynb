{
 "cells": [
  {
   "cell_type": "markdown",
   "id": "f7b2f102",
   "metadata": {},
   "source": [
    "# Modelos de ML"
   ]
  },
  {
   "cell_type": "markdown",
   "id": "4c298704",
   "metadata": {},
   "source": [
    "En esta sección se cargaran todos los datos que han sido transformados y limpiados para realizar feature engineering, optimización de hiperparametros y reducción de dimensionalidad."
   ]
  },
  {
   "cell_type": "code",
   "execution_count": 1,
   "id": "a39970ca",
   "metadata": {},
   "outputs": [],
   "source": [
    "import pandas as pd\n",
    "import numpy as np\n",
    "import seaborn as sns\n",
    "import matplotlib.pyplot as plt\n",
    "from sklearn.model_selection import train_test_split"
   ]
  },
  {
   "cell_type": "markdown",
   "id": "e6374fa9",
   "metadata": {},
   "source": [
    "## Carga de los datos"
   ]
  },
  {
   "cell_type": "code",
   "execution_count": 2,
   "id": "59419580",
   "metadata": {},
   "outputs": [],
   "source": [
    "df = pd.read_csv(\"dataClean_new.csv\", sep = \",\")"
   ]
  },
  {
   "cell_type": "code",
   "execution_count": 3,
   "id": "b85dd85d",
   "metadata": {},
   "outputs": [
    {
     "data": {
      "text/html": [
       "<div>\n",
       "<style scoped>\n",
       "    .dataframe tbody tr th:only-of-type {\n",
       "        vertical-align: middle;\n",
       "    }\n",
       "\n",
       "    .dataframe tbody tr th {\n",
       "        vertical-align: top;\n",
       "    }\n",
       "\n",
       "    .dataframe thead th {\n",
       "        text-align: right;\n",
       "    }\n",
       "</style>\n",
       "<table border=\"1\" class=\"dataframe\">\n",
       "  <thead>\n",
       "    <tr style=\"text-align: right;\">\n",
       "      <th></th>\n",
       "      <th>fecha_nacimiento</th>\n",
       "      <th>genero</th>\n",
       "      <th>ult_actual</th>\n",
       "      <th>ind_mora_vigente</th>\n",
       "      <th>cupo_total_tc</th>\n",
       "      <th>tenencia_tc</th>\n",
       "      <th>tiene_ctas_activas</th>\n",
       "      <th>ingreso_final</th>\n",
       "      <th>saldo_no_rot_mdo</th>\n",
       "      <th>cant_oblig_tot_sf</th>\n",
       "      <th>...</th>\n",
       "      <th>ocupacion_jubilado</th>\n",
       "      <th>ocupacion_otro</th>\n",
       "      <th>ocupacion_pensionado</th>\n",
       "      <th>ocupacion_profesional independiente</th>\n",
       "      <th>ocupacion_rentista de capital</th>\n",
       "      <th>ocupacion_socio empleado - socio</th>\n",
       "      <th>tipo_vivienda_familiar</th>\n",
       "      <th>tipo_vivienda_no informa</th>\n",
       "      <th>tipo_vivienda_propia</th>\n",
       "      <th>cuotas_a_pagar</th>\n",
       "    </tr>\n",
       "  </thead>\n",
       "  <tbody>\n",
       "    <tr>\n",
       "      <th>0</th>\n",
       "      <td>19840630</td>\n",
       "      <td>1</td>\n",
       "      <td>20180526</td>\n",
       "      <td>0</td>\n",
       "      <td>0.0</td>\n",
       "      <td>0</td>\n",
       "      <td>1</td>\n",
       "      <td>1391032.0</td>\n",
       "      <td>0.0</td>\n",
       "      <td>0.0</td>\n",
       "      <td>...</td>\n",
       "      <td>0</td>\n",
       "      <td>0</td>\n",
       "      <td>0</td>\n",
       "      <td>0</td>\n",
       "      <td>0</td>\n",
       "      <td>0</td>\n",
       "      <td>0</td>\n",
       "      <td>0</td>\n",
       "      <td>0</td>\n",
       "      <td>0.0</td>\n",
       "    </tr>\n",
       "    <tr>\n",
       "      <th>1</th>\n",
       "      <td>19860727</td>\n",
       "      <td>1</td>\n",
       "      <td>20181120</td>\n",
       "      <td>0</td>\n",
       "      <td>0.0</td>\n",
       "      <td>0</td>\n",
       "      <td>1</td>\n",
       "      <td>2327500.0</td>\n",
       "      <td>0.0</td>\n",
       "      <td>0.0</td>\n",
       "      <td>...</td>\n",
       "      <td>0</td>\n",
       "      <td>0</td>\n",
       "      <td>0</td>\n",
       "      <td>0</td>\n",
       "      <td>0</td>\n",
       "      <td>0</td>\n",
       "      <td>1</td>\n",
       "      <td>0</td>\n",
       "      <td>0</td>\n",
       "      <td>0.0</td>\n",
       "    </tr>\n",
       "    <tr>\n",
       "      <th>2</th>\n",
       "      <td>19910108</td>\n",
       "      <td>1</td>\n",
       "      <td>20190802</td>\n",
       "      <td>0</td>\n",
       "      <td>0.0</td>\n",
       "      <td>1</td>\n",
       "      <td>1</td>\n",
       "      <td>6519750.0</td>\n",
       "      <td>0.0</td>\n",
       "      <td>0.0</td>\n",
       "      <td>...</td>\n",
       "      <td>0</td>\n",
       "      <td>0</td>\n",
       "      <td>0</td>\n",
       "      <td>0</td>\n",
       "      <td>0</td>\n",
       "      <td>0</td>\n",
       "      <td>0</td>\n",
       "      <td>1</td>\n",
       "      <td>0</td>\n",
       "      <td>0.0</td>\n",
       "    </tr>\n",
       "    <tr>\n",
       "      <th>3</th>\n",
       "      <td>19900903</td>\n",
       "      <td>1</td>\n",
       "      <td>20190906</td>\n",
       "      <td>0</td>\n",
       "      <td>0.0</td>\n",
       "      <td>0</td>\n",
       "      <td>1</td>\n",
       "      <td>1484205.0</td>\n",
       "      <td>2555000.0</td>\n",
       "      <td>0.0</td>\n",
       "      <td>...</td>\n",
       "      <td>0</td>\n",
       "      <td>0</td>\n",
       "      <td>0</td>\n",
       "      <td>0</td>\n",
       "      <td>0</td>\n",
       "      <td>0</td>\n",
       "      <td>0</td>\n",
       "      <td>1</td>\n",
       "      <td>0</td>\n",
       "      <td>0.0</td>\n",
       "    </tr>\n",
       "    <tr>\n",
       "      <th>4</th>\n",
       "      <td>19790623</td>\n",
       "      <td>0</td>\n",
       "      <td>20191211</td>\n",
       "      <td>0</td>\n",
       "      <td>0.0</td>\n",
       "      <td>0</td>\n",
       "      <td>1</td>\n",
       "      <td>4353334.0</td>\n",
       "      <td>211000.0</td>\n",
       "      <td>4.0</td>\n",
       "      <td>...</td>\n",
       "      <td>0</td>\n",
       "      <td>0</td>\n",
       "      <td>0</td>\n",
       "      <td>0</td>\n",
       "      <td>0</td>\n",
       "      <td>0</td>\n",
       "      <td>0</td>\n",
       "      <td>1</td>\n",
       "      <td>0</td>\n",
       "      <td>0.0</td>\n",
       "    </tr>\n",
       "  </tbody>\n",
       "</table>\n",
       "<p>5 rows × 44 columns</p>\n",
       "</div>"
      ],
      "text/plain": [
       "   fecha_nacimiento  genero  ult_actual  ind_mora_vigente  cupo_total_tc  \\\n",
       "0          19840630       1    20180526                 0            0.0   \n",
       "1          19860727       1    20181120                 0            0.0   \n",
       "2          19910108       1    20190802                 0            0.0   \n",
       "3          19900903       1    20190906                 0            0.0   \n",
       "4          19790623       0    20191211                 0            0.0   \n",
       "\n",
       "   tenencia_tc  tiene_ctas_activas  ingreso_final  saldo_no_rot_mdo  \\\n",
       "0            0                   1      1391032.0               0.0   \n",
       "1            0                   1      2327500.0               0.0   \n",
       "2            1                   1      6519750.0               0.0   \n",
       "3            0                   1      1484205.0         2555000.0   \n",
       "4            0                   1      4353334.0          211000.0   \n",
       "\n",
       "   cant_oblig_tot_sf  ...  ocupacion_jubilado  ocupacion_otro  \\\n",
       "0                0.0  ...                   0               0   \n",
       "1                0.0  ...                   0               0   \n",
       "2                0.0  ...                   0               0   \n",
       "3                0.0  ...                   0               0   \n",
       "4                4.0  ...                   0               0   \n",
       "\n",
       "   ocupacion_pensionado  ocupacion_profesional independiente  \\\n",
       "0                     0                                    0   \n",
       "1                     0                                    0   \n",
       "2                     0                                    0   \n",
       "3                     0                                    0   \n",
       "4                     0                                    0   \n",
       "\n",
       "   ocupacion_rentista de capital  ocupacion_socio empleado - socio  \\\n",
       "0                              0                                 0   \n",
       "1                              0                                 0   \n",
       "2                              0                                 0   \n",
       "3                              0                                 0   \n",
       "4                              0                                 0   \n",
       "\n",
       "   tipo_vivienda_familiar  tipo_vivienda_no informa  tipo_vivienda_propia  \\\n",
       "0                       0                         0                     0   \n",
       "1                       1                         0                     0   \n",
       "2                       0                         1                     0   \n",
       "3                       0                         1                     0   \n",
       "4                       0                         1                     0   \n",
       "\n",
       "   cuotas_a_pagar  \n",
       "0             0.0  \n",
       "1             0.0  \n",
       "2             0.0  \n",
       "3             0.0  \n",
       "4             0.0  \n",
       "\n",
       "[5 rows x 44 columns]"
      ]
     },
     "execution_count": 3,
     "metadata": {},
     "output_type": "execute_result"
    }
   ],
   "source": [
    "df.head()"
   ]
  },
  {
   "cell_type": "markdown",
   "id": "610c9ca6",
   "metadata": {},
   "source": [
    "## Selección de modelos\n",
    "\n",
    "Para este analisis se realizaran las comparaciones de performance utilizando 3 modelos:\n",
    "\n",
    "1. Gradient Boosting tree\n",
    "2. Random Forest\n",
    "3. Support vector machine\n",
    "4. Neural networks"
   ]
  },
  {
   "cell_type": "code",
   "execution_count": 4,
   "id": "bc71ffe2",
   "metadata": {},
   "outputs": [],
   "source": [
    "X = df.drop([\"gasto_familiar\"], axis = 1)\n",
    "Y = df[\"gasto_familiar\"]"
   ]
  },
  {
   "cell_type": "code",
   "execution_count": 5,
   "id": "4e8800e2",
   "metadata": {},
   "outputs": [],
   "source": [
    "X_train, X_test, y_train, y_test = train_test_split(X, Y, test_size=0.2,random_state=7)"
   ]
  },
  {
   "cell_type": "markdown",
   "id": "6b0e370b",
   "metadata": {},
   "source": [
    "## Modelo sencillo para analisis de features importances"
   ]
  },
  {
   "cell_type": "code",
   "execution_count": 6,
   "id": "57cfc8d5",
   "metadata": {},
   "outputs": [
    {
     "name": "stdout",
     "output_type": "stream",
     "text": [
      "      Iter       Train Loss   Remaining Time \n",
      "         1 155370963185.2104           13.50m\n",
      "         2 150781478028.7314           13.37m\n",
      "         3 147005871287.8783           13.25m\n",
      "         4 143930203500.4450           13.26m\n",
      "         5 141381866636.9082           13.19m\n",
      "         6 139279041226.4739           13.14m\n"
     ]
    },
    {
     "ename": "KeyboardInterrupt",
     "evalue": "",
     "output_type": "error",
     "traceback": [
      "\u001b[0;31m---------------------------------------------------------------------------\u001b[0m",
      "\u001b[0;31mKeyboardInterrupt\u001b[0m                         Traceback (most recent call last)",
      "\u001b[0;32m/tmp/ipykernel_25393/3599401476.py\u001b[0m in \u001b[0;36m<module>\u001b[0;34m\u001b[0m\n\u001b[1;32m      4\u001b[0m           'loss': 'huber','alpha':0.95}\n\u001b[1;32m      5\u001b[0m \u001b[0;34m\u001b[0m\u001b[0m\n\u001b[0;32m----> 6\u001b[0;31m \u001b[0mGBReg\u001b[0m \u001b[0;34m=\u001b[0m \u001b[0mGradientBoostingRegressor\u001b[0m\u001b[0;34m(\u001b[0m\u001b[0;34m**\u001b[0m\u001b[0mparams\u001b[0m\u001b[0;34m)\u001b[0m\u001b[0;34m.\u001b[0m\u001b[0mfit\u001b[0m\u001b[0;34m(\u001b[0m\u001b[0mX_train\u001b[0m\u001b[0;34m,\u001b[0m \u001b[0my_train\u001b[0m\u001b[0;34m)\u001b[0m\u001b[0;34m\u001b[0m\u001b[0;34m\u001b[0m\u001b[0m\n\u001b[0m",
      "\u001b[0;32m/opt/conda/lib/python3.7/site-packages/sklearn/ensemble/_gb.py\u001b[0m in \u001b[0;36mfit\u001b[0;34m(self, X, y, sample_weight, monitor)\u001b[0m\n\u001b[1;32m    594\u001b[0m             \u001b[0msample_weight_val\u001b[0m\u001b[0;34m,\u001b[0m\u001b[0;34m\u001b[0m\u001b[0;34m\u001b[0m\u001b[0m\n\u001b[1;32m    595\u001b[0m             \u001b[0mbegin_at_stage\u001b[0m\u001b[0;34m,\u001b[0m\u001b[0;34m\u001b[0m\u001b[0;34m\u001b[0m\u001b[0m\n\u001b[0;32m--> 596\u001b[0;31m             \u001b[0mmonitor\u001b[0m\u001b[0;34m,\u001b[0m\u001b[0;34m\u001b[0m\u001b[0;34m\u001b[0m\u001b[0m\n\u001b[0m\u001b[1;32m    597\u001b[0m         )\n\u001b[1;32m    598\u001b[0m \u001b[0;34m\u001b[0m\u001b[0m\n",
      "\u001b[0;32m/opt/conda/lib/python3.7/site-packages/sklearn/ensemble/_gb.py\u001b[0m in \u001b[0;36m_fit_stages\u001b[0;34m(self, X, y, raw_predictions, sample_weight, random_state, X_val, y_val, sample_weight_val, begin_at_stage, monitor)\u001b[0m\n\u001b[1;32m    670\u001b[0m                 \u001b[0mrandom_state\u001b[0m\u001b[0;34m,\u001b[0m\u001b[0;34m\u001b[0m\u001b[0;34m\u001b[0m\u001b[0m\n\u001b[1;32m    671\u001b[0m                 \u001b[0mX_csc\u001b[0m\u001b[0;34m,\u001b[0m\u001b[0;34m\u001b[0m\u001b[0;34m\u001b[0m\u001b[0m\n\u001b[0;32m--> 672\u001b[0;31m                 \u001b[0mX_csr\u001b[0m\u001b[0;34m,\u001b[0m\u001b[0;34m\u001b[0m\u001b[0;34m\u001b[0m\u001b[0m\n\u001b[0m\u001b[1;32m    673\u001b[0m             )\n\u001b[1;32m    674\u001b[0m \u001b[0;34m\u001b[0m\u001b[0m\n",
      "\u001b[0;32m/opt/conda/lib/python3.7/site-packages/sklearn/ensemble/_gb.py\u001b[0m in \u001b[0;36m_fit_stage\u001b[0;34m(self, i, X, y, raw_predictions, sample_weight, sample_mask, random_state, X_csc, X_csr)\u001b[0m\n\u001b[1;32m    244\u001b[0m \u001b[0;34m\u001b[0m\u001b[0m\n\u001b[1;32m    245\u001b[0m             \u001b[0mX\u001b[0m \u001b[0;34m=\u001b[0m \u001b[0mX_csr\u001b[0m \u001b[0;32mif\u001b[0m \u001b[0mX_csr\u001b[0m \u001b[0;32mis\u001b[0m \u001b[0;32mnot\u001b[0m \u001b[0;32mNone\u001b[0m \u001b[0;32melse\u001b[0m \u001b[0mX\u001b[0m\u001b[0;34m\u001b[0m\u001b[0;34m\u001b[0m\u001b[0m\n\u001b[0;32m--> 246\u001b[0;31m             \u001b[0mtree\u001b[0m\u001b[0;34m.\u001b[0m\u001b[0mfit\u001b[0m\u001b[0;34m(\u001b[0m\u001b[0mX\u001b[0m\u001b[0;34m,\u001b[0m \u001b[0mresidual\u001b[0m\u001b[0;34m,\u001b[0m \u001b[0msample_weight\u001b[0m\u001b[0;34m=\u001b[0m\u001b[0msample_weight\u001b[0m\u001b[0;34m,\u001b[0m \u001b[0mcheck_input\u001b[0m\u001b[0;34m=\u001b[0m\u001b[0;32mFalse\u001b[0m\u001b[0;34m)\u001b[0m\u001b[0;34m\u001b[0m\u001b[0;34m\u001b[0m\u001b[0m\n\u001b[0m\u001b[1;32m    247\u001b[0m \u001b[0;34m\u001b[0m\u001b[0m\n\u001b[1;32m    248\u001b[0m             \u001b[0;31m# update tree leaves\u001b[0m\u001b[0;34m\u001b[0m\u001b[0;34m\u001b[0m\u001b[0;34m\u001b[0m\u001b[0m\n",
      "\u001b[0;32m/opt/conda/lib/python3.7/site-packages/sklearn/tree/_classes.py\u001b[0m in \u001b[0;36mfit\u001b[0;34m(self, X, y, sample_weight, check_input, X_idx_sorted)\u001b[0m\n\u001b[1;32m   1318\u001b[0m             \u001b[0msample_weight\u001b[0m\u001b[0;34m=\u001b[0m\u001b[0msample_weight\u001b[0m\u001b[0;34m,\u001b[0m\u001b[0;34m\u001b[0m\u001b[0;34m\u001b[0m\u001b[0m\n\u001b[1;32m   1319\u001b[0m             \u001b[0mcheck_input\u001b[0m\u001b[0;34m=\u001b[0m\u001b[0mcheck_input\u001b[0m\u001b[0;34m,\u001b[0m\u001b[0;34m\u001b[0m\u001b[0;34m\u001b[0m\u001b[0m\n\u001b[0;32m-> 1320\u001b[0;31m             \u001b[0mX_idx_sorted\u001b[0m\u001b[0;34m=\u001b[0m\u001b[0mX_idx_sorted\u001b[0m\u001b[0;34m,\u001b[0m\u001b[0;34m\u001b[0m\u001b[0;34m\u001b[0m\u001b[0m\n\u001b[0m\u001b[1;32m   1321\u001b[0m         )\n\u001b[1;32m   1322\u001b[0m         \u001b[0;32mreturn\u001b[0m \u001b[0mself\u001b[0m\u001b[0;34m\u001b[0m\u001b[0;34m\u001b[0m\u001b[0m\n",
      "\u001b[0;32m/opt/conda/lib/python3.7/site-packages/sklearn/tree/_classes.py\u001b[0m in \u001b[0;36mfit\u001b[0;34m(self, X, y, sample_weight, check_input, X_idx_sorted)\u001b[0m\n\u001b[1;32m    418\u001b[0m             )\n\u001b[1;32m    419\u001b[0m \u001b[0;34m\u001b[0m\u001b[0m\n\u001b[0;32m--> 420\u001b[0;31m         \u001b[0mbuilder\u001b[0m\u001b[0;34m.\u001b[0m\u001b[0mbuild\u001b[0m\u001b[0;34m(\u001b[0m\u001b[0mself\u001b[0m\u001b[0;34m.\u001b[0m\u001b[0mtree_\u001b[0m\u001b[0;34m,\u001b[0m \u001b[0mX\u001b[0m\u001b[0;34m,\u001b[0m \u001b[0my\u001b[0m\u001b[0;34m,\u001b[0m \u001b[0msample_weight\u001b[0m\u001b[0;34m)\u001b[0m\u001b[0;34m\u001b[0m\u001b[0;34m\u001b[0m\u001b[0m\n\u001b[0m\u001b[1;32m    421\u001b[0m \u001b[0;34m\u001b[0m\u001b[0m\n\u001b[1;32m    422\u001b[0m         \u001b[0;32mif\u001b[0m \u001b[0mself\u001b[0m\u001b[0;34m.\u001b[0m\u001b[0mn_outputs_\u001b[0m \u001b[0;34m==\u001b[0m \u001b[0;36m1\u001b[0m \u001b[0;32mand\u001b[0m \u001b[0mis_classifier\u001b[0m\u001b[0;34m(\u001b[0m\u001b[0mself\u001b[0m\u001b[0;34m)\u001b[0m\u001b[0;34m:\u001b[0m\u001b[0;34m\u001b[0m\u001b[0;34m\u001b[0m\u001b[0m\n",
      "\u001b[0;31mKeyboardInterrupt\u001b[0m: "
     ]
    }
   ],
   "source": [
    "from sklearn.ensemble import GradientBoostingRegressor\n",
    "\n",
    "params = {'n_estimators': 500, 'max_depth': 6, 'verbose': 2,\n",
    "          'loss': 'huber','alpha':0.95}\n",
    "\n",
    "GBReg = GradientBoostingRegressor(**params).fit(X_train, y_train)"
   ]
  },
  {
   "cell_type": "code",
   "execution_count": null,
   "id": "3a10023f",
   "metadata": {},
   "outputs": [],
   "source": [
    "GBReg.score(X_test, y_test)"
   ]
  },
  {
   "cell_type": "code",
   "execution_count": null,
   "id": "5343484c",
   "metadata": {},
   "outputs": [],
   "source": [
    "y_pred = GBReg.predict(X_test)"
   ]
  },
  {
   "cell_type": "code",
   "execution_count": 11,
   "id": "748fc824",
   "metadata": {},
   "outputs": [],
   "source": [
    "def mean_absolute_percentage_error2(y_pred, y_true):\n",
    "    y_true = np.where(y_true == 0, 0.0000000001, y_true)\n",
    "    return np.mean(np.abs((y_true - y_pred) / y_true))"
   ]
  },
  {
   "cell_type": "code",
   "execution_count": 10,
   "id": "1f030936",
   "metadata": {},
   "outputs": [
    {
     "data": {
      "text/plain": [
       "10924.249763421274"
      ]
     },
     "execution_count": 10,
     "metadata": {},
     "output_type": "execute_result"
    }
   ],
   "source": [
    "mape = mean_absolute_percentage_error2(y_pred, y_test)*100\n",
    "mape"
   ]
  },
  {
   "cell_type": "code",
   "execution_count": 7,
   "id": "d8236644-c4e6-4b94-95d3-17b6b18eafe3",
   "metadata": {},
   "outputs": [
    {
     "name": "stdout",
     "output_type": "stream",
     "text": [
      "Iteration 1, loss = 181593466017.66754150\n",
      "Iteration 2, loss = 144378285835.92422485\n",
      "Iteration 3, loss = 141545698067.29760742\n",
      "Iteration 4, loss = 139272198748.98709106\n",
      "Iteration 5, loss = 138062746848.79284668\n",
      "Iteration 6, loss = 137669955182.90853882\n",
      "Iteration 7, loss = 137078047557.33184814\n",
      "Iteration 8, loss = 137036776110.90684509\n",
      "Iteration 9, loss = 136849667262.85656738\n",
      "Iteration 10, loss = 136870261328.87008667\n",
      "Iteration 11, loss = 136741494803.17842102\n",
      "Iteration 12, loss = 136688861308.05090332\n",
      "Iteration 13, loss = 136648078964.46640015\n",
      "Iteration 14, loss = 136608601943.10671997\n",
      "Iteration 15, loss = 136589059458.59761047\n",
      "Iteration 16, loss = 136571648607.83276367\n",
      "Iteration 17, loss = 136532857585.88777161\n",
      "Iteration 18, loss = 136531019664.60484314\n",
      "Iteration 19, loss = 136480549918.61094666\n",
      "Iteration 20, loss = 136500479249.21253967\n",
      "Iteration 21, loss = 136482318568.03854370\n",
      "Iteration 22, loss = 136491724624.72280884\n",
      "Iteration 23, loss = 136501027502.71658325\n",
      "Iteration 24, loss = 136495564664.54673767\n",
      "Iteration 25, loss = 136466231311.15234375\n",
      "Iteration 26, loss = 136443413286.82290649\n",
      "Iteration 27, loss = 136425673148.53767395\n",
      "Iteration 28, loss = 136487005193.59877014\n",
      "Iteration 29, loss = 136402716821.95649719\n",
      "Iteration 30, loss = 136443404132.11225891\n",
      "Iteration 31, loss = 136420351704.91271973\n",
      "Iteration 32, loss = 136439796994.66136169\n",
      "Iteration 33, loss = 136396492988.23310852\n",
      "Iteration 34, loss = 136395147677.72918701\n",
      "Iteration 35, loss = 136356813016.98550415\n",
      "Iteration 36, loss = 136403574933.26885986\n",
      "Iteration 37, loss = 136343638937.65138245\n",
      "Iteration 38, loss = 136348942525.52497864\n",
      "Iteration 39, loss = 136353049942.84153748\n",
      "Iteration 40, loss = 136385503871.42066956\n",
      "Iteration 41, loss = 136358654781.60510254\n",
      "Iteration 42, loss = 136384819136.51266479\n",
      "Iteration 43, loss = 136353510371.71577454\n",
      "Iteration 44, loss = 136346333252.63865662\n",
      "Iteration 45, loss = 136347587091.45709229\n",
      "Iteration 46, loss = 136382518456.27388000\n",
      "Iteration 47, loss = 136325432842.73921204\n",
      "Iteration 48, loss = 136328009387.09788513\n",
      "Iteration 49, loss = 136345150770.04646301\n",
      "Iteration 50, loss = 136342238719.71322632\n",
      "Iteration 51, loss = 136327148162.94091797\n",
      "Iteration 52, loss = 136358962532.69224548\n",
      "Iteration 53, loss = 136325076285.67393494\n",
      "Iteration 54, loss = 136341740967.54040527\n",
      "Iteration 55, loss = 136308295787.97567749\n",
      "Iteration 56, loss = 136324644419.48614502\n",
      "Iteration 57, loss = 136290982947.06578064\n",
      "Iteration 58, loss = 136342856088.22923279\n",
      "Iteration 59, loss = 136356690420.27752686\n",
      "Iteration 60, loss = 136318699819.18965149\n",
      "Iteration 61, loss = 136381768737.76049805\n",
      "Iteration 62, loss = 136304741107.20127869\n",
      "Iteration 63, loss = 136306114264.26341248\n",
      "Iteration 64, loss = 136304555506.59617615\n",
      "Iteration 65, loss = 136334666875.74653625\n",
      "Iteration 66, loss = 136318755570.58912659\n",
      "Iteration 67, loss = 136326930270.27755737\n",
      "Iteration 68, loss = 136340560124.07830811\n",
      "Training loss did not improve more than tol=0.000100 for 10 consecutive epochs. Stopping.\n"
     ]
    }
   ],
   "source": [
    "from sklearn.neural_network import MLPRegressor\n",
    "\n",
    "regr = MLPRegressor(hidden_layer_sizes = (240,120), \n",
    "                    random_state=1, \n",
    "                    max_iter=100,\n",
    "                    verbose = True).fit(X_train, y_train)"
   ]
  },
  {
   "cell_type": "code",
   "execution_count": 8,
   "id": "726b83da-8945-43ca-97c8-15fe1ef504b0",
   "metadata": {},
   "outputs": [],
   "source": [
    "y_pred4 = regr.predict(X_test)"
   ]
  },
  {
   "cell_type": "code",
   "execution_count": 9,
   "id": "987ce30d-d8b0-4f53-bdd0-2c0b312e43f5",
   "metadata": {},
   "outputs": [
    {
     "data": {
      "text/plain": [
       "0.09670213228528213"
      ]
     },
     "execution_count": 9,
     "metadata": {},
     "output_type": "execute_result"
    }
   ],
   "source": [
    "regr.score(X_test, y_test)"
   ]
  },
  {
   "cell_type": "code",
   "execution_count": 12,
   "id": "3ef7b16e-3a1b-4506-8f6e-b963f81e37ce",
   "metadata": {},
   "outputs": [
    {
     "data": {
      "text/plain": [
       "117.25899198226054"
      ]
     },
     "execution_count": 12,
     "metadata": {},
     "output_type": "execute_result"
    }
   ],
   "source": [
    "mape_nn = mean_absolute_percentage_error2(y_pred4, y_test)\n",
    "mape_nn"
   ]
  },
  {
   "cell_type": "code",
   "execution_count": null,
   "id": "14e9cb13-4072-4501-9f9c-64d321c58413",
   "metadata": {},
   "outputs": [],
   "source": []
  }
 ],
 "metadata": {
  "environment": {
   "kernel": "python3",
   "name": "common-cpu.m82",
   "type": "gcloud",
   "uri": "gcr.io/deeplearning-platform-release/base-cpu:m82"
  },
  "kernelspec": {
   "display_name": "Python 3",
   "language": "python",
   "name": "python3"
  },
  "language_info": {
   "codemirror_mode": {
    "name": "ipython",
    "version": 3
   },
   "file_extension": ".py",
   "mimetype": "text/x-python",
   "name": "python",
   "nbconvert_exporter": "python",
   "pygments_lexer": "ipython3",
   "version": "3.7.10"
  }
 },
 "nbformat": 4,
 "nbformat_minor": 5
}
