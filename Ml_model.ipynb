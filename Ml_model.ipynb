{
 "cells": [
  {
   "cell_type": "markdown",
   "id": "f7b2f102",
   "metadata": {},
   "source": [
    "# Modelos de ML"
   ]
  },
  {
   "cell_type": "markdown",
   "id": "4c298704",
   "metadata": {},
   "source": [
    "En esta sección se cargaran todos los datos que han sido transformados y limpiados para realizar feature engineering, optimización de hiperparametros y reducción de dimensionalidad."
   ]
  },
  {
   "cell_type": "code",
   "execution_count": 1,
   "id": "a39970ca",
   "metadata": {},
   "outputs": [
    {
     "name": "stderr",
     "output_type": "stream",
     "text": [
      "/home/romuz/monografia/bigData/lib/python3.8/site-packages/sklearn/utils/deprecation.py:143: FutureWarning: The sklearn.utils.testing module is  deprecated in version 0.22 and will be removed in version 0.24. The corresponding classes / functions should instead be imported from sklearn.utils. Anything that cannot be imported from sklearn.utils is now part of the private API.\n",
      "  warnings.warn(message, FutureWarning)\n"
     ]
    }
   ],
   "source": [
    "import pandas as pd\n",
    "import numpy as np\n",
    "import seaborn as sns\n",
    "import matplotlib.pyplot as plt\n",
    "from lazypredict.Supervised import LazyClassifier, LazyRegressor\n",
    "from sklearn.model_selection import train_test_split"
   ]
  },
  {
   "cell_type": "markdown",
   "id": "e6374fa9",
   "metadata": {},
   "source": [
    "## Carga de los datos"
   ]
  },
  {
   "cell_type": "code",
   "execution_count": 2,
   "id": "59419580",
   "metadata": {},
   "outputs": [],
   "source": [
    "df = pd.read_csv(\"data_clean.csv\", sep = \";\")"
   ]
  },
  {
   "cell_type": "code",
   "execution_count": 3,
   "id": "b85dd85d",
   "metadata": {},
   "outputs": [
    {
     "data": {
      "text/html": [
       "<div>\n",
       "<style scoped>\n",
       "    .dataframe tbody tr th:only-of-type {\n",
       "        vertical-align: middle;\n",
       "    }\n",
       "\n",
       "    .dataframe tbody tr th {\n",
       "        vertical-align: top;\n",
       "    }\n",
       "\n",
       "    .dataframe thead th {\n",
       "        text-align: right;\n",
       "    }\n",
       "</style>\n",
       "<table border=\"1\" class=\"dataframe\">\n",
       "  <thead>\n",
       "    <tr style=\"text-align: right;\">\n",
       "      <th></th>\n",
       "      <th>genero</th>\n",
       "      <th>categoria</th>\n",
       "      <th>ind_mora_vigente</th>\n",
       "      <th>cartera_castigada</th>\n",
       "      <th>rechazo_credito</th>\n",
       "      <th>cant_moras_30_ult_12_meses</th>\n",
       "      <th>cant_moras_60_ult_12_meses</th>\n",
       "      <th>cant_moras_90_ult_12_meses</th>\n",
       "      <th>tenencia_tc</th>\n",
       "      <th>tiene_consumo</th>\n",
       "      <th>...</th>\n",
       "      <th>cat_ingreso_nom pen</th>\n",
       "      <th>cat_ingreso_pen</th>\n",
       "      <th>rep_calif_cred_A</th>\n",
       "      <th>rep_calif_cred_B</th>\n",
       "      <th>rep_calif_cred_C</th>\n",
       "      <th>rep_calif_cred_D</th>\n",
       "      <th>rep_calif_cred_E</th>\n",
       "      <th>rep_calif_cred_F</th>\n",
       "      <th>rep_calif_cred_G</th>\n",
       "      <th>rep_calif_cred_H</th>\n",
       "    </tr>\n",
       "  </thead>\n",
       "  <tbody>\n",
       "    <tr>\n",
       "      <th>0</th>\n",
       "      <td>1</td>\n",
       "      <td>1.00</td>\n",
       "      <td>0</td>\n",
       "      <td>0</td>\n",
       "      <td>0</td>\n",
       "      <td>0</td>\n",
       "      <td>0</td>\n",
       "      <td>0</td>\n",
       "      <td>0</td>\n",
       "      <td>0</td>\n",
       "      <td>...</td>\n",
       "      <td>0</td>\n",
       "      <td>0</td>\n",
       "      <td>0</td>\n",
       "      <td>0</td>\n",
       "      <td>1</td>\n",
       "      <td>0</td>\n",
       "      <td>0</td>\n",
       "      <td>0</td>\n",
       "      <td>0</td>\n",
       "      <td>0</td>\n",
       "    </tr>\n",
       "    <tr>\n",
       "      <th>1</th>\n",
       "      <td>1</td>\n",
       "      <td>1.00</td>\n",
       "      <td>0</td>\n",
       "      <td>0</td>\n",
       "      <td>0</td>\n",
       "      <td>0</td>\n",
       "      <td>0</td>\n",
       "      <td>0</td>\n",
       "      <td>0</td>\n",
       "      <td>0</td>\n",
       "      <td>...</td>\n",
       "      <td>0</td>\n",
       "      <td>0</td>\n",
       "      <td>0</td>\n",
       "      <td>0</td>\n",
       "      <td>0</td>\n",
       "      <td>0</td>\n",
       "      <td>0</td>\n",
       "      <td>1</td>\n",
       "      <td>0</td>\n",
       "      <td>0</td>\n",
       "    </tr>\n",
       "    <tr>\n",
       "      <th>2</th>\n",
       "      <td>0</td>\n",
       "      <td>1.00</td>\n",
       "      <td>0</td>\n",
       "      <td>0</td>\n",
       "      <td>0</td>\n",
       "      <td>0</td>\n",
       "      <td>0</td>\n",
       "      <td>0</td>\n",
       "      <td>0</td>\n",
       "      <td>1</td>\n",
       "      <td>...</td>\n",
       "      <td>0</td>\n",
       "      <td>0</td>\n",
       "      <td>0</td>\n",
       "      <td>0</td>\n",
       "      <td>1</td>\n",
       "      <td>0</td>\n",
       "      <td>0</td>\n",
       "      <td>0</td>\n",
       "      <td>0</td>\n",
       "      <td>0</td>\n",
       "    </tr>\n",
       "    <tr>\n",
       "      <th>3</th>\n",
       "      <td>1</td>\n",
       "      <td>1.00</td>\n",
       "      <td>0</td>\n",
       "      <td>0</td>\n",
       "      <td>0</td>\n",
       "      <td>0</td>\n",
       "      <td>0</td>\n",
       "      <td>0</td>\n",
       "      <td>0</td>\n",
       "      <td>0</td>\n",
       "      <td>...</td>\n",
       "      <td>0</td>\n",
       "      <td>0</td>\n",
       "      <td>0</td>\n",
       "      <td>0</td>\n",
       "      <td>1</td>\n",
       "      <td>0</td>\n",
       "      <td>0</td>\n",
       "      <td>0</td>\n",
       "      <td>0</td>\n",
       "      <td>0</td>\n",
       "    </tr>\n",
       "    <tr>\n",
       "      <th>4</th>\n",
       "      <td>1</td>\n",
       "      <td>2.00</td>\n",
       "      <td>0</td>\n",
       "      <td>0</td>\n",
       "      <td>0</td>\n",
       "      <td>0</td>\n",
       "      <td>0</td>\n",
       "      <td>0</td>\n",
       "      <td>0</td>\n",
       "      <td>0</td>\n",
       "      <td>...</td>\n",
       "      <td>0</td>\n",
       "      <td>1</td>\n",
       "      <td>0</td>\n",
       "      <td>1</td>\n",
       "      <td>0</td>\n",
       "      <td>0</td>\n",
       "      <td>0</td>\n",
       "      <td>0</td>\n",
       "      <td>0</td>\n",
       "      <td>0</td>\n",
       "    </tr>\n",
       "  </tbody>\n",
       "</table>\n",
       "<p>5 rows × 75 columns</p>\n",
       "</div>"
      ],
      "text/plain": [
       "   genero  categoria  ind_mora_vigente  cartera_castigada  rechazo_credito  \\\n",
       "0       1       1.00                 0                  0                0   \n",
       "1       1       1.00                 0                  0                0   \n",
       "2       0       1.00                 0                  0                0   \n",
       "3       1       1.00                 0                  0                0   \n",
       "4       1       2.00                 0                  0                0   \n",
       "\n",
       "   cant_moras_30_ult_12_meses  cant_moras_60_ult_12_meses  \\\n",
       "0                           0                           0   \n",
       "1                           0                           0   \n",
       "2                           0                           0   \n",
       "3                           0                           0   \n",
       "4                           0                           0   \n",
       "\n",
       "   cant_moras_90_ult_12_meses  tenencia_tc  tiene_consumo  ...  \\\n",
       "0                           0            0              0  ...   \n",
       "1                           0            0              0  ...   \n",
       "2                           0            0              1  ...   \n",
       "3                           0            0              0  ...   \n",
       "4                           0            0              0  ...   \n",
       "\n",
       "   cat_ingreso_nom pen  cat_ingreso_pen  rep_calif_cred_A  rep_calif_cred_B  \\\n",
       "0                    0                0                 0                 0   \n",
       "1                    0                0                 0                 0   \n",
       "2                    0                0                 0                 0   \n",
       "3                    0                0                 0                 0   \n",
       "4                    0                1                 0                 1   \n",
       "\n",
       "   rep_calif_cred_C  rep_calif_cred_D  rep_calif_cred_E  rep_calif_cred_F  \\\n",
       "0                 1                 0                 0                 0   \n",
       "1                 0                 0                 0                 1   \n",
       "2                 1                 0                 0                 0   \n",
       "3                 1                 0                 0                 0   \n",
       "4                 0                 0                 0                 0   \n",
       "\n",
       "   rep_calif_cred_G  rep_calif_cred_H  \n",
       "0                 0                 0  \n",
       "1                 0                 0  \n",
       "2                 0                 0  \n",
       "3                 0                 0  \n",
       "4                 0                 0  \n",
       "\n",
       "[5 rows x 75 columns]"
      ]
     },
     "execution_count": 3,
     "metadata": {},
     "output_type": "execute_result"
    }
   ],
   "source": [
    "df.head()"
   ]
  },
  {
   "cell_type": "markdown",
   "id": "610c9ca6",
   "metadata": {},
   "source": [
    "## Selección de modelos\n",
    "\n",
    "Para este analisis se realizaran las comparaciones de performance utilizando 3 modelos:\n",
    "\n",
    "1. Gradient Boosting tree\n",
    "2. Support vector machine\n",
    "3. Neural networks"
   ]
  },
  {
   "cell_type": "code",
   "execution_count": 4,
   "id": "bc71ffe2",
   "metadata": {},
   "outputs": [],
   "source": [
    "X = df.drop([\"gasto_familiar\"], axis = 1)\n",
    "Y = df[\"gasto_familiar\"]"
   ]
  },
  {
   "cell_type": "code",
   "execution_count": 5,
   "id": "4e8800e2",
   "metadata": {},
   "outputs": [],
   "source": [
    "X_train, X_test, y_train, y_test = train_test_split(X, Y, test_size=0.2,random_state=7)"
   ]
  },
  {
   "cell_type": "code",
   "execution_count": 6,
   "id": "ae560b2b",
   "metadata": {},
   "outputs": [],
   "source": [
    "reg = LazyRegressor(ignore_warnings=True, random_state=7, verbose=True)"
   ]
  },
  {
   "cell_type": "code",
   "execution_count": null,
   "id": "a7a00ddd",
   "metadata": {},
   "outputs": [
    {
     "name": "stderr",
     "output_type": "stream",
     "text": [
      "  2%|███▏                                                                                                                                | 1/42 [00:19<13:21, 19.54s/it]"
     ]
    },
    {
     "name": "stdout",
     "output_type": "stream",
     "text": [
      "{'Model': 'AdaBoostRegressor', 'R-Squared': 0.06535916293724076, 'Adjusted R-Squared': 0.06454068996062867, 'RMSE': 535058.5010274259, 'Time taken': 19.543700218200684}\n"
     ]
    },
    {
     "name": "stderr",
     "output_type": "stream",
     "text": [
      "\r",
      "  5%|██████▎                                                                                                                             | 2/42 [01:19<28:51, 43.28s/it]"
     ]
    },
    {
     "name": "stdout",
     "output_type": "stream",
     "text": [
      "{'Model': 'BaggingRegressor', 'R-Squared': 0.013245862335480085, 'Adjusted R-Squared': 0.012381753295716003, 'RMSE': 549772.9531318544, 'Time taken': 59.89377498626709}\n"
     ]
    },
    {
     "name": "stderr",
     "output_type": "stream",
     "text": [
      "\r",
      "  7%|█████████▍                                                                                                                          | 3/42 [01:23<16:24, 25.23s/it]"
     ]
    },
    {
     "name": "stdout",
     "output_type": "stream",
     "text": [
      "{'Model': 'BayesianRidge', 'R-Squared': 0.09581350495724761, 'Adjusted R-Squared': 0.09502170110847097, 'RMSE': 526269.1353783819, 'Time taken': 3.752384662628174}\n"
     ]
    },
    {
     "name": "stderr",
     "output_type": "stream",
     "text": [
      "\r",
      " 10%|████████████▌                                                                                                                       | 4/42 [01:33<12:10, 19.22s/it]"
     ]
    },
    {
     "name": "stdout",
     "output_type": "stream",
     "text": [
      "{'Model': 'DecisionTreeRegressor', 'R-Squared': -0.8069561155021017, 'Adjusted R-Squared': -0.8085384824304613, 'RMSE': 743965.325965372, 'Time taken': 9.994131088256836}\n"
     ]
    },
    {
     "name": "stderr",
     "output_type": "stream",
     "text": [
      "\r",
      " 12%|███████████████▋                                                                                                                    | 5/42 [01:34<07:46, 12.61s/it]"
     ]
    },
    {
     "name": "stdout",
     "output_type": "stream",
     "text": [
      "{'Model': 'DummyRegressor', 'R-Squared': -2.6752346506953018e-06, 'Adjusted R-Squared': -0.0008783861321024489, 'RMSE': 553451.3780390638, 'Time taken': 0.8849596977233887}\n"
     ]
    },
    {
     "name": "stderr",
     "output_type": "stream",
     "text": [
      "\r",
      " 14%|██████████████████▊                                                                                                                 | 6/42 [01:35<05:18,  8.86s/it]"
     ]
    },
    {
     "name": "stdout",
     "output_type": "stream",
     "text": [
      "{'Model': 'ElasticNet', 'R-Squared': 0.09006898739710056, 'Adjusted R-Squared': 0.08927215302515379, 'RMSE': 527938.246660743, 'Time taken': 1.5876731872558594}\n"
     ]
    },
    {
     "name": "stderr",
     "output_type": "stream",
     "text": [
      "\r",
      " 17%|██████████████████████                                                                                                              | 7/42 [01:40<04:29,  7.69s/it]"
     ]
    },
    {
     "name": "stdout",
     "output_type": "stream",
     "text": [
      "{'Model': 'ElasticNetCV', 'R-Squared': 0.004161885751235883, 'Adjusted R-Squared': 0.003289821795466108, 'RMSE': 552297.7377625947, 'Time taken': 5.271364212036133}\n"
     ]
    },
    {
     "name": "stderr",
     "output_type": "stream",
     "text": [
      "\r",
      " 19%|█████████████████████████▏                                                                                                          | 8/42 [01:47<04:05,  7.22s/it]"
     ]
    },
    {
     "name": "stdout",
     "output_type": "stream",
     "text": [
      "{'Model': 'ExtraTreeRegressor', 'R-Squared': -0.8223923204032932, 'Adjusted R-Squared': -0.8239882049483374, 'RMSE': 747136.2882667067, 'Time taken': 6.210688591003418}\n"
     ]
    }
   ],
   "source": [
    "models, predictions = reg.fit(X_train, X_test, y_train, y_test)"
   ]
  },
  {
   "cell_type": "code",
   "execution_count": null,
   "id": "54f98209",
   "metadata": {},
   "outputs": [],
   "source": [
    "models"
   ]
  }
 ],
 "metadata": {
  "kernelspec": {
   "display_name": "Python 3 (ipykernel)",
   "language": "python",
   "name": "python3"
  },
  "language_info": {
   "codemirror_mode": {
    "name": "ipython",
    "version": 3
   },
   "file_extension": ".py",
   "mimetype": "text/x-python",
   "name": "python",
   "nbconvert_exporter": "python",
   "pygments_lexer": "ipython3",
   "version": "3.8.10"
  }
 },
 "nbformat": 4,
 "nbformat_minor": 5
}
