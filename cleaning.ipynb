{
 "cells": [
  {
   "cell_type": "code",
   "execution_count": 1,
   "id": "c862ab19",
   "metadata": {},
   "outputs": [],
   "source": [
    "import warnings\n",
    "warnings.simplefilter(\"ignore\")"
   ]
  },
  {
   "cell_type": "markdown",
   "id": "6dd26882",
   "metadata": {},
   "source": [
    "# Monografía - Dataton bancolombia 2020"
   ]
  },
  {
   "cell_type": "code",
   "execution_count": 2,
   "id": "94658a15",
   "metadata": {},
   "outputs": [
    {
     "name": "stderr",
     "output_type": "stream",
     "text": [
      "21/10/28 16:23:05 WARN NativeCodeLoader: Unable to load native-hadoop library for your platform... using builtin-java classes where applicable\n",
      "Using Spark's default log4j profile: org/apache/spark/log4j-defaults.properties\n",
      "Setting default log level to \"WARN\".\n",
      "To adjust logging level use sc.setLogLevel(newLevel). For SparkR, use setLogLevel(newLevel).\n"
     ]
    }
   ],
   "source": [
    "from pyspark import SparkContext\n",
    "from pyspark.sql.types import *\n",
    "from pyspark.sql.functions import col, udf, when, lower\n",
    "from pyspark.sql import SparkSession, SQLContext\n",
    "\n",
    "spark = SparkSession.builder.master(\"local[*]\").getOrCreate()\n",
    "sc = SparkContext.getOrCreate()\n",
    "sqlCtx = SQLContext(sc)"
   ]
  },
  {
   "cell_type": "markdown",
   "id": "aeeb7861",
   "metadata": {},
   "source": [
    "## Carga del dataset en formato parquet\n",
    "\n",
    "En esta primera parte se cargara el dataset en formato parquet y se sacaran el total de registros"
   ]
  },
  {
   "cell_type": "code",
   "execution_count": 3,
   "id": "f703ee5f",
   "metadata": {},
   "outputs": [
    {
     "name": "stderr",
     "output_type": "stream",
     "text": [
      "[Stage 1:>                                                          (0 + 8) / 8]\r"
     ]
    },
    {
     "name": "stdout",
     "output_type": "stream",
     "text": [
      "Total de los registros en bruto de la tabla: 20988748\n"
     ]
    },
    {
     "name": "stderr",
     "output_type": "stream",
     "text": [
      "\r",
      "                                                                                \r"
     ]
    }
   ],
   "source": [
    "df = sqlCtx.read.parquet(\"tmp/dataton\")\n",
    "print(f\"Total de los registros en bruto de la tabla: {df.count()}\")"
   ]
  },
  {
   "cell_type": "markdown",
   "id": "b4f0d84b",
   "metadata": {},
   "source": [
    "## Limpieza de las variables categoricas\n",
    "\n",
    "En esta sección se hará una limpieza sobre las variables categoricas a utilizar en la monografía"
   ]
  },
  {
   "cell_type": "code",
   "execution_count": 4,
   "id": "896b8d08",
   "metadata": {},
   "outputs": [
    {
     "data": {
      "text/plain": [
       "[('periodo', 'int'),\n",
       " ('id_cli', 'bigint'),\n",
       " ('fecha_nacimiento', 'bigint'),\n",
       " ('edad', 'double'),\n",
       " ('genero', 'string'),\n",
       " ('estado_civil', 'string'),\n",
       " ('nivel_academico', 'string'),\n",
       " ('profesion', 'string'),\n",
       " ('ocupacion', 'string'),\n",
       " ('tipo_vivienda', 'string'),\n",
       " ('ult_actual', 'bigint'),\n",
       " ('categoria', 'smallint'),\n",
       " ('codigo_ciiu', 'bigint'),\n",
       " ('ind_mora_vigente', 'string'),\n",
       " ('cartera_castigada', 'string'),\n",
       " ('ciudad_residencia', 'string'),\n",
       " ('departamento_residencia', 'string'),\n",
       " ('ciudad_laboral', 'string'),\n",
       " ('departamento_laboral', 'string'),\n",
       " ('rechazo_credito', 'string'),\n",
       " ('mora_max', 'bigint'),\n",
       " ('cant_moras_30_ult_12_meses', 'bigint'),\n",
       " ('cant_moras_60_ult_12_meses', 'bigint'),\n",
       " ('cant_moras_90_ult_12_meses', 'bigint'),\n",
       " ('cupo_total_tc', 'double'),\n",
       " ('tenencia_tc', 'string'),\n",
       " ('cuota_tc_bancolombia', 'double'),\n",
       " ('tiene_consumo', 'string'),\n",
       " ('tiene_crediagil', 'string'),\n",
       " ('nro_tot_cuentas', 'bigint'),\n",
       " ('ctas_activas', 'bigint'),\n",
       " ('tiene_ctas_activas', 'string'),\n",
       " ('ctas_embargadas', 'bigint'),\n",
       " ('tiene_ctas_embargadas', 'string'),\n",
       " ('pension_fopep', 'string'),\n",
       " ('cuota_cred_hipot', 'double'),\n",
       " ('tiene_cred_hipo_1', 'string'),\n",
       " ('tiene_cred_hipo_2', 'string'),\n",
       " ('mediana_nom3', 'double'),\n",
       " ('mediana_pen3', 'double'),\n",
       " ('ingreso_nompen', 'double'),\n",
       " ('cat_ingreso', 'string'),\n",
       " ('ingreso_final', 'double'),\n",
       " ('cant_mora_30_tdc_ult_3m_sf', 'double'),\n",
       " ('cant_mora_30_consum_ult_3m_sf', 'double'),\n",
       " ('cuota_de_vivienda', 'double'),\n",
       " ('cuota_de_consumo', 'double'),\n",
       " ('cuota_rotativos', 'double'),\n",
       " ('cuota_tarjeta_de_credito', 'double'),\n",
       " ('cuota_de_sector_solidario', 'double'),\n",
       " ('cuota_sector_real_comercio', 'double'),\n",
       " ('cupo_tc_mdo', 'double'),\n",
       " ('saldo_prom3_tdc_mdo', 'double'),\n",
       " ('cuota_tc_mdo', 'double'),\n",
       " ('saldo_no_rot_mdo', 'double'),\n",
       " ('cuota_libranza_sf', 'double'),\n",
       " ('cant_oblig_tot_sf', 'double'),\n",
       " ('cant_cast_ult_12m_sr', 'double'),\n",
       " ('ind', 'double'),\n",
       " ('rep_calif_cred', 'string'),\n",
       " ('pol_centr_ext', 'double'),\n",
       " ('convenio_lib', 'string'),\n",
       " ('ingreso_nomina', 'double'),\n",
       " ('ingreso_seguridad_social', 'double'),\n",
       " ('gasto_familiar', 'double')]"
      ]
     },
     "execution_count": 4,
     "metadata": {},
     "output_type": "execute_result"
    }
   ],
   "source": [
    "df.dtypes"
   ]
  },
  {
   "cell_type": "markdown",
   "id": "d018fdcd",
   "metadata": {},
   "source": [
    "Como primera instancia se eliminaran las columnas que desde ya no aportan información para entrenar un modelo, además se eliminaran ciertas variables que son dificiles de tratar al tener demasiadas categorias (profesion, departamento laboral y residencial)"
   ]
  },
  {
   "cell_type": "code",
   "execution_count": 5,
   "id": "8430c8b4",
   "metadata": {},
   "outputs": [],
   "source": [
    "clean_df = df.drop(\"periodo\",\"id_cli\",\"fecha_nacimiento\",\"ult_actual\",\"codigo_ciiu\", \"profesion\",\n",
    "                   \"departamento_residencia\", \"departamento_laboral\", \"convenio_lib\")"
   ]
  },
  {
   "cell_type": "markdown",
   "id": "59154b40",
   "metadata": {},
   "source": [
    "1. En la variable llamada rep_calif_cred (grupo de riesgo) se eliminaron los valores iguales a \"SIN INFO\" dado que no hay forma de imputar estos valores ya que es una calificación que da el banco al cliente.\n",
    "2. En la variable llamada genero, se eliminaron los valores nulos.\n",
    "3. En la variable edad se eliminaron los valores nulos ya que más adelante esta variable será importante para hacer una categorización."
   ]
  },
  {
   "cell_type": "code",
   "execution_count": 6,
   "id": "763769ad",
   "metadata": {},
   "outputs": [],
   "source": [
    "clean_df = clean_df.filter(col(\"rep_calif_cred\") != \"SIN INFO\")\n",
    "clean_df = clean_df.filter(col(\"genero\") != \" \")"
   ]
  },
  {
   "cell_type": "code",
   "execution_count": 7,
   "id": "adeae45a",
   "metadata": {},
   "outputs": [
    {
     "name": "stderr",
     "output_type": "stream",
     "text": [
      "                                                                                \r"
     ]
    },
    {
     "data": {
      "text/plain": [
       "19044100"
      ]
     },
     "execution_count": 7,
     "metadata": {},
     "output_type": "execute_result"
    }
   ],
   "source": [
    "clean_df.count()"
   ]
  },
  {
   "cell_type": "markdown",
   "id": "7b18b702",
   "metadata": {},
   "source": [
    "Aqui se realizan limpiezas generales sobre las variables y se convirtieron algunas variables categoricas en variables binarias para usarse en los modelos"
   ]
  },
  {
   "cell_type": "code",
   "execution_count": 8,
   "id": "ce26ba9f",
   "metadata": {},
   "outputs": [],
   "source": [
    "clean_df = clean_df.select(\"*\",\n",
    "                       when((col(\"estado_civil\") == \"NO INFORMA\") | (col(\"estado_civil\") == \"\\\\N\"), \"otro\") \\\n",
    "                               .otherwise(lower(col(\"estado_civil\"))).alias(\"civil_status\"),\n",
    "                       when(col(\"nivel_academico\") == \"SIN INFORMACION\", \"no informa\") \\\n",
    "                               .otherwise(lower(col(\"nivel_academico\"))).alias(\"academic_level\"),\n",
    "                       when(col(\"tipo_vivienda\") == '\\\\N', \"no informa\") \\\n",
    "                               .otherwise(lower(col(\"tipo_vivienda\"))).alias(\"house_kind\"),\n",
    "                       when((col(\"ind_mora_vigente\") == '\\\\N') | (col(\"ind_mora_vigente\") == \"N\"), 0) \\\n",
    "                               .otherwise(1).alias(\"pending_arrears\"),\n",
    "                       when((col(\"cartera_castigada\") == '\\\\N') | (col(\"cartera_castigada\") == \"N\"), 0) \\\n",
    "                               .otherwise(1).alias(\"punished_wallet\"),\n",
    "                       when((col(\"tenencia_tc\") == 'NO'), 0) \\\n",
    "                               .otherwise(1).alias(\"have_tc\"),\n",
    "                       when((col(\"tiene_consumo\") == '\\\\N'), 0) \\\n",
    "                               .otherwise(1).alias(\"have_consumption\"),\n",
    "                       when((col(\"tiene_crediagil\") == '\\\\N'), 0) \\\n",
    "                               .otherwise(1).alias(\"have_crediagil\"),\n",
    "                       when((col(\"tiene_ctas_activas\") == '\\\\N'), 0) \\\n",
    "                               .otherwise(1).alias(\"active_accounts\"),\n",
    "                       when((col(\"tiene_ctas_embargadas\") == '\\\\N'), 0) \\\n",
    "                               .otherwise(1).alias(\"seized_accounts\"),\n",
    "                       when((col(\"pension_fopep\") == '\\\\N'), 0) \\\n",
    "                               .otherwise(1).alias(\"fopep_pension\"),\n",
    "                       when((col(\"tiene_cred_hipo_1\") == 'X'), 1) \\\n",
    "                               .otherwise(0).alias(\"have_cred_hipo_1\"),\n",
    "                       when((col(\"tiene_cred_hipo_2\") == 'X'), 1) \\\n",
    "                               .otherwise(0).alias(\"have_cred_hipo_2\"),\n",
    "                       when((col(\"genero\") == \"M\"), 1) \\\n",
    "                               .otherwise(0).alias(\"genre\"),\n",
    "                       when((col(\"ocupacion\") == \"\\\\N\") | (col(\"ocupacion\") == \"Sin Ocupacion Asignada\") \n",
    "                            | (col(\"ocupacion\") == \"Vacío\"), \"otro\") \\\n",
    "                               .otherwise(lower(col(\"ocupacion\"))).alias(\"occupation\"),\n",
    "                       when((col(\"rechazo_credito\") == \"\\\\N\"), 0) \\\n",
    "                               .otherwise(1).alias(\"credit_rejected\"),\n",
    "                       when((col(\"cat_ingreso\") == \"\\\\N\"), \"NINGUNO\") \\\n",
    "                               .otherwise(col(\"cat_ingreso\")).alias(\"income_cat\"),\n",
    "                       \n",
    "                          ).drop(\"estado_civil\",\"nivel_academico\",\"tipo_vivienda\",\n",
    "                                 \"ind_mora_vigente\", \"cartera_castigada\", \"tenencia_tc\",\n",
    "                                 \"tiene_consumo\", \"tiene_crediagil\", \"tiene_ctas_activas\",\n",
    "                                 \"tiene_ctas_embargadas\", \"pension_fopep\", \"tiene_cred_hipo_1\",\n",
    "                                 \"tiene_cred_hipo_2\", \"genero\", \"ocupacion\", \"rechazo_credito\",\n",
    "                                 \"cat_ingreso\",\n",
    "                                )"
   ]
  },
  {
   "cell_type": "markdown",
   "id": "ea083fe2",
   "metadata": {},
   "source": [
    "Por último, se realizará una limpieza de nulos en la varibale categorica ordenal de categoria."
   ]
  },
  {
   "cell_type": "code",
   "execution_count": 9,
   "id": "4f901671",
   "metadata": {},
   "outputs": [],
   "source": [
    "clean_df = clean_df.filter(col(\"categoria\").isNotNull())"
   ]
  },
  {
   "cell_type": "markdown",
   "id": "ebda0728",
   "metadata": {},
   "source": [
    "## Limpieza de variables númericas"
   ]
  },
  {
   "cell_type": "code",
   "execution_count": 10,
   "id": "3480802f",
   "metadata": {},
   "outputs": [
    {
     "name": "stdout",
     "output_type": "stream",
     "text": [
      "Variables numericas a limpiar\n"
     ]
    },
    {
     "data": {
      "text/plain": [
       "['edad',\n",
       " 'categoria',\n",
       " 'mora_max',\n",
       " 'cant_moras_30_ult_12_meses',\n",
       " 'cant_moras_60_ult_12_meses',\n",
       " 'cant_moras_90_ult_12_meses',\n",
       " 'cupo_total_tc',\n",
       " 'cuota_tc_bancolombia',\n",
       " 'nro_tot_cuentas',\n",
       " 'ctas_activas',\n",
       " 'ctas_embargadas',\n",
       " 'cuota_cred_hipot',\n",
       " 'mediana_nom3',\n",
       " 'mediana_pen3',\n",
       " 'ingreso_nompen',\n",
       " 'ingreso_final',\n",
       " 'cant_mora_30_tdc_ult_3m_sf',\n",
       " 'cant_mora_30_consum_ult_3m_sf',\n",
       " 'cuota_de_vivienda',\n",
       " 'cuota_de_consumo',\n",
       " 'cuota_rotativos',\n",
       " 'cuota_tarjeta_de_credito',\n",
       " 'cuota_de_sector_solidario',\n",
       " 'cuota_sector_real_comercio',\n",
       " 'cupo_tc_mdo',\n",
       " 'saldo_prom3_tdc_mdo',\n",
       " 'cuota_tc_mdo',\n",
       " 'saldo_no_rot_mdo',\n",
       " 'cuota_libranza_sf',\n",
       " 'cant_oblig_tot_sf',\n",
       " 'cant_cast_ult_12m_sr',\n",
       " 'ind',\n",
       " 'pol_centr_ext',\n",
       " 'ingreso_nomina',\n",
       " 'ingreso_seguridad_social',\n",
       " 'gasto_familiar']"
      ]
     },
     "execution_count": 10,
     "metadata": {},
     "output_type": "execute_result"
    }
   ],
   "source": [
    "num_col = [i for i,j in clean_df.dtypes if j != \"string\" and j != \"int\"]\n",
    "print(\"Variables numericas a limpiar\")\n",
    "num_col"
   ]
  },
  {
   "cell_type": "markdown",
   "id": "afa8cb50",
   "metadata": {},
   "source": [
    "Primero, la variable edad se trabajara categorizada. Se realizaran las categorias utilizando el común de los bancos \"las generaciones\".\n",
    "\n",
    "Generación Z -> 11 - 27\n",
    "\n",
    "Generación Y -> 28 - 40\n",
    "\n",
    "Generación X -> 41 - 52\n",
    "\n",
    "Baby Boom [BB]-> mayor que 52\n",
    "\n",
    "para realizar la categorización se utilizara una udf, pero antes, se realizara limpieza de valores nulos."
   ]
  },
  {
   "cell_type": "code",
   "execution_count": 11,
   "id": "fb800a1b",
   "metadata": {},
   "outputs": [],
   "source": [
    "clean_df = clean_df.filter(col(\"edad\").isNotNull())"
   ]
  },
  {
   "cell_type": "code",
   "execution_count": 12,
   "id": "771efc96",
   "metadata": {},
   "outputs": [],
   "source": [
    "def age_categorization(x):\n",
    "    if x <= 27: return \"Z\"\n",
    "    elif 27 < x <= 40: return \"Y\"\n",
    "    elif 40 < x <= 52: return \"X\"\n",
    "    else: return \"BB\"\n",
    "\n",
    "udf_age_categorization = udf(age_categorization, StringType())"
   ]
  },
  {
   "cell_type": "markdown",
   "id": "443338ec",
   "metadata": {},
   "source": [
    "Las variables de las moras cada 30, 60 y 90 dias, serán categorizadas ya que asi aportaran más información que de manera númerica. Si ha tenido almenos una mora, se marcara con 1 y si no, con 0"
   ]
  },
  {
   "cell_type": "markdown",
   "id": "e0a540d8",
   "metadata": {},
   "source": [
    "El siguiente bloque de codigo realiza todas las limpiezas"
   ]
  },
  {
   "cell_type": "code",
   "execution_count": 13,
   "id": "178eed86",
   "metadata": {},
   "outputs": [],
   "source": [
    "clean_df = clean_df.select('*',\n",
    "                      udf_age_categorization(col(\"edad\")).alias(\"age_cat\"),\n",
    "                      when((col(\"cant_moras_30_ult_12_meses\") > 0), 1) \\\n",
    "                               .otherwise(0).alias(\"mora_30_12\"),\n",
    "                      when((col(\"cant_moras_60_ult_12_meses\") > 0), 1) \\\n",
    "                               .otherwise(0).alias(\"mora_60_12\"),\n",
    "                      when((col(\"cant_moras_90_ult_12_meses\") > 0), 1) \\\n",
    "                               .otherwise(0).alias(\"mora_90_12\"),\n",
    "                      when((col(\"cant_mora_30_tdc_ult_3m_sf\") == 0.0) \n",
    "                           | (col(\"cant_mora_30_tdc_ult_3m_sf\") == None), 0) \\\n",
    "                               .otherwise(1).alias(\"mora_30_3_tc\"),\n",
    "                      when((col(\"cant_mora_30_consum_ult_3m_sf\") == 0.0) \n",
    "                           | (col(\"cant_mora_30_consum_ult_3m_sf\") == None), 0) \\\n",
    "                               .otherwise(1).alias(\"mora_30_3_cons\"),\n",
    "                      ).drop(\"edad\", \"cant_moras_30_ult_12_meses\", \"cant_moras_60_ult_12_meses\",\n",
    "                             \"cant_moras_90_ult_12_meses\",\n",
    "                            )"
   ]
  },
  {
   "cell_type": "markdown",
   "id": "eabe6b6e",
   "metadata": {},
   "source": [
    "Variables que no aportan información a la variable objetivo de manera númerica, estas variables no se utilizaran ya que sesgarian en gran medida las predicciones al tener principalmente valores nulos que no corresponen como tal a datos sucios, si no, a clientes que no presentan cuentas activas o que no tienen cuentas embargadas. Ya hay un flag binarizado para trabajar con estas variables."
   ]
  },
  {
   "cell_type": "code",
   "execution_count": 14,
   "id": "650923ee",
   "metadata": {},
   "outputs": [],
   "source": [
    "clean_df = clean_df.drop(\"nro_tot_cuentas\", \"ctas_embargadas\", \"ctas_activas\", \"ingreso_nompen\",\n",
    "                         \"cupo_tc_mdo\", \"cant_cast_ult_12m_sr\", \"ingreso_nomina\", \"ingreso_segurida_social\",\n",
    "                         \"pol_centr_ext\")"
   ]
  },
  {
   "cell_type": "markdown",
   "id": "b96ebdf5",
   "metadata": {},
   "source": [
    "Utilizando la definición del ind (ingreso neto disponible) que nos brinda bancolombia, se van a eliminar ciertas variables que indican relación directa con otras\n",
    "\n",
    "Ingreso neto disponible calculado para el cliente\n",
    "Ingreso final – Gasto familiar – Cuotas pagadas + Cuotas pagadas de la línea de crédito Libranza.\n",
    "\n",
    "Cuotas Pagadas = Cuota de vivienda (CUOTA DE VIVIENDA) + cuota de consumo (CUOTA DE CONSUMO) + cuota rotativos (CUOTA ROTATIVOS) + cuota comercial (CUOTA COMERCIAL) + cuota de microcrédito (CUOTA DE MICROCRÉDITO) + cuota de TDC (CUOTA TARJETA DE CREDITO) + cuota de sector solidario (CUOTA DE SECTOR SOLIDARIO) + cuota sector real comercio (CUOTA SECTOR REAL COMERCIO)."
   ]
  },
  {
   "cell_type": "code",
   "execution_count": 15,
   "id": "b12299ab",
   "metadata": {},
   "outputs": [],
   "source": [
    "clean_df = clean_df.withColumn(\"fees_paid\", col(\"cuota_de_vivienda\") + col(\"cuota_de_consumo\") \n",
    "                               + col(\"cuota_rotativos\") + col(\"cuota_tarjeta_de_credito\")\n",
    "                               + col(\"cuota_de_sector_solidario\") + col(\"cuota_sector_real_comercio\")\n",
    "                               + col(\"cuota_tc_mdo\")) \\\n",
    "                   .drop(\"cuota_de_vivienda\", \"cuota_de_consumo\", \"cuota_rotativos\",\n",
    "                         \"cuota_tarjeta_de_credito\", \"cuota_de_sector_solidario\",\n",
    "                         \"cuota_sector_real_comercio\", \"cuota_tc_mdo\")"
   ]
  },
  {
   "cell_type": "code",
   "execution_count": 16,
   "id": "a0b7507f",
   "metadata": {},
   "outputs": [
    {
     "name": "stdout",
     "output_type": "stream",
     "text": [
      "Total de caracteristicas en el dataset: 44\n"
     ]
    },
    {
     "name": "stderr",
     "output_type": "stream",
     "text": [
      "[Stage 5:===================================================>       (7 + 1) / 8]\r"
     ]
    },
    {
     "name": "stdout",
     "output_type": "stream",
     "text": [
      "Total de registros en el dataset: 19032375\n"
     ]
    },
    {
     "name": "stderr",
     "output_type": "stream",
     "text": [
      "\r",
      "                                                                                \r"
     ]
    }
   ],
   "source": [
    "features = len(clean_df.dtypes)\n",
    "print(f\"Total de caracteristicas en el dataset: {features}\")\n",
    "print(f\"Total de registros en el dataset: {clean_df.count()}\")"
   ]
  },
  {
   "cell_type": "code",
   "execution_count": 17,
   "id": "0fbb07e4",
   "metadata": {},
   "outputs": [
    {
     "data": {
      "text/plain": [
       "[('categoria', 'smallint'),\n",
       " ('ciudad_residencia', 'string'),\n",
       " ('ciudad_laboral', 'string'),\n",
       " ('mora_max', 'bigint'),\n",
       " ('cupo_total_tc', 'double'),\n",
       " ('cuota_tc_bancolombia', 'double'),\n",
       " ('cuota_cred_hipot', 'double'),\n",
       " ('mediana_nom3', 'double'),\n",
       " ('mediana_pen3', 'double'),\n",
       " ('ingreso_final', 'double'),\n",
       " ('cant_mora_30_tdc_ult_3m_sf', 'double'),\n",
       " ('cant_mora_30_consum_ult_3m_sf', 'double'),\n",
       " ('saldo_prom3_tdc_mdo', 'double'),\n",
       " ('saldo_no_rot_mdo', 'double'),\n",
       " ('cuota_libranza_sf', 'double'),\n",
       " ('cant_oblig_tot_sf', 'double'),\n",
       " ('ind', 'double'),\n",
       " ('rep_calif_cred', 'string'),\n",
       " ('ingreso_seguridad_social', 'double'),\n",
       " ('gasto_familiar', 'double'),\n",
       " ('civil_status', 'string'),\n",
       " ('academic_level', 'string'),\n",
       " ('house_kind', 'string'),\n",
       " ('pending_arrears', 'int'),\n",
       " ('punished_wallet', 'int'),\n",
       " ('have_tc', 'int'),\n",
       " ('have_consumption', 'int'),\n",
       " ('have_crediagil', 'int'),\n",
       " ('active_accounts', 'int'),\n",
       " ('seized_accounts', 'int'),\n",
       " ('fopep_pension', 'int'),\n",
       " ('have_cred_hipo_1', 'int'),\n",
       " ('have_cred_hipo_2', 'int'),\n",
       " ('genre', 'int'),\n",
       " ('occupation', 'string'),\n",
       " ('credit_rejected', 'int'),\n",
       " ('income_cat', 'string'),\n",
       " ('age_cat', 'string'),\n",
       " ('mora_30_12', 'int'),\n",
       " ('mora_60_12', 'int'),\n",
       " ('mora_90_12', 'int'),\n",
       " ('mora_30_3_tc', 'int'),\n",
       " ('mora_30_3_cons', 'int'),\n",
       " ('fees_paid', 'double')]"
      ]
     },
     "execution_count": 17,
     "metadata": {},
     "output_type": "execute_result"
    }
   ],
   "source": [
    "clean_df.dtypes"
   ]
  },
  {
   "cell_type": "markdown",
   "id": "208a32ad",
   "metadata": {},
   "source": [
    "## Se guarda el nuevo dataset generado"
   ]
  },
  {
   "cell_type": "code",
   "execution_count": null,
   "id": "8fc90a40",
   "metadata": {},
   "outputs": [
    {
     "name": "stderr",
     "output_type": "stream",
     "text": [
      "21/10/28 16:23:23 WARN package: Truncated the string representation of a plan since it was too large. This behavior can be adjusted by setting 'spark.sql.debug.maxToStringFields'.\n",
      "[Stage 7:>                                                          (0 + 8) / 8]\r"
     ]
    }
   ],
   "source": [
    "df.repartition(1).write.mode('overwrite').parquet('tmp/dataton_clean')"
   ]
  }
 ],
 "metadata": {
  "kernelspec": {
   "display_name": "Python 3 (ipykernel)",
   "language": "python",
   "name": "python3"
  },
  "language_info": {
   "codemirror_mode": {
    "name": "ipython",
    "version": 3
   },
   "file_extension": ".py",
   "mimetype": "text/x-python",
   "name": "python",
   "nbconvert_exporter": "python",
   "pygments_lexer": "ipython3",
   "version": "3.8.10"
  }
 },
 "nbformat": 4,
 "nbformat_minor": 5
}
