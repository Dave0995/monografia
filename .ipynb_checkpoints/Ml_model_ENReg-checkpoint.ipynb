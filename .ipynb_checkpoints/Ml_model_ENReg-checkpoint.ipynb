{
 "cells": [
  {
   "cell_type": "markdown",
   "id": "f7b2f102",
   "metadata": {},
   "source": [
    "# Modelos de ML"
   ]
  },
  {
   "cell_type": "markdown",
   "id": "4c298704",
   "metadata": {},
   "source": [
    "En esta sección se cargaran todos los datos que han sido transformados y limpiados para realizar feature engineering, optimización de hiperparametros y reducción de dimensionalidad."
   ]
  },
  {
   "cell_type": "code",
   "execution_count": 1,
   "id": "a39970ca",
   "metadata": {},
   "outputs": [],
   "source": [
    "import pandas as pd\n",
    "import numpy as np\n",
    "import seaborn as sns\n",
    "import matplotlib.pyplot as plt\n",
    "from sklearn.model_selection import train_test_split"
   ]
  },
  {
   "cell_type": "markdown",
   "id": "e6374fa9",
   "metadata": {},
   "source": [
    "## Carga de los datos"
   ]
  },
  {
   "cell_type": "code",
   "execution_count": 2,
   "id": "59419580",
   "metadata": {},
   "outputs": [],
   "source": [
    "df = pd.read_csv(\"clean_data.csv\", sep = \",\")"
   ]
  },
  {
   "cell_type": "code",
   "execution_count": 3,
   "id": "b85dd85d",
   "metadata": {},
   "outputs": [
    {
     "data": {
      "text/plain": [
       "(422890, 75)"
      ]
     },
     "execution_count": 3,
     "metadata": {},
     "output_type": "execute_result"
    }
   ],
   "source": [
    "df.shape"
   ]
  },
  {
   "cell_type": "markdown",
   "id": "610c9ca6",
   "metadata": {},
   "source": [
    "## Selección de modelos\n",
    "\n",
    "Para este analisis se realizaran las comparaciones de performance utilizando 3 modelos:\n",
    "\n",
    "1. Gradient Boosting tree\n",
    "2. Random Forest\n",
    "3. Support vector machine\n",
    "4. Neural networks"
   ]
  },
  {
   "cell_type": "code",
   "execution_count": 4,
   "id": "bc71ffe2",
   "metadata": {},
   "outputs": [],
   "source": [
    "X = df.drop([\"gasto_familiar\"], axis = 1)\n",
    "Y = df[\"gasto_familiar\"]"
   ]
  },
  {
   "cell_type": "code",
   "execution_count": 5,
   "id": "4e8800e2",
   "metadata": {},
   "outputs": [],
   "source": [
    "X_train, X_test, y_train, y_test = train_test_split(X, Y, test_size=0.3)"
   ]
  },
  {
   "cell_type": "markdown",
   "id": "7f765f05",
   "metadata": {},
   "source": [
    "## Modelo sencillo para analisis de features importances"
   ]
  },
  {
   "cell_type": "code",
   "execution_count": 6,
   "id": "564d2bce",
   "metadata": {},
   "outputs": [
    {
     "data": {
      "text/plain": [
       "ElasticNetCV(random_state=0)"
      ]
     },
     "execution_count": 6,
     "metadata": {},
     "output_type": "execute_result"
    }
   ],
   "source": [
    "from sklearn.linear_model import ElasticNetCV\n",
    "\n",
    "ENReg = ElasticNetCV(random_state = 0)\n",
    "ENReg.fit(X_train, y_train)"
   ]
  },
  {
   "cell_type": "code",
   "execution_count": 10,
   "id": "b96990c0",
   "metadata": {},
   "outputs": [],
   "source": [
    "def mean_absolute_percentage_error2(y_pred, y_true):\n",
    "    y_true = np.where(y_true == 0, 0.0000000001, y_true)\n",
    "    return np.mean(np.abs((y_true - y_pred) / y_true))"
   ]
  },
  {
   "cell_type": "code",
   "execution_count": 8,
   "id": "de9900da-d882-4ce1-be8e-de0001a7370b",
   "metadata": {},
   "outputs": [],
   "source": [
    "y_pred = ENReg.predict(X_test)\n",
    "y_train_pred = ENReg.predict(X_train)"
   ]
  },
  {
   "cell_type": "code",
   "execution_count": 9,
   "id": "cd63050b-450e-41a6-b87d-c0fd1b4bce06",
   "metadata": {},
   "outputs": [
    {
     "data": {
      "text/plain": [
       "0.05025316848875472"
      ]
     },
     "execution_count": 9,
     "metadata": {},
     "output_type": "execute_result"
    }
   ],
   "source": [
    "ENReg.score(X_test, y_test)"
   ]
  },
  {
   "cell_type": "code",
   "execution_count": 10,
   "id": "f13ba215-3fd4-4831-bafd-0c6f9c30797a",
   "metadata": {},
   "outputs": [
    {
     "data": {
      "text/plain": [
       "0.049176480140556755"
      ]
     },
     "execution_count": 10,
     "metadata": {},
     "output_type": "execute_result"
    }
   ],
   "source": [
    "ENReg.score(X_train, y_train)"
   ]
  },
  {
   "cell_type": "code",
   "execution_count": 11,
   "id": "f6bce383-0e0c-471c-8327-927f9f58e9a5",
   "metadata": {},
   "outputs": [
    {
     "data": {
      "text/plain": [
       "98.142220058781"
      ]
     },
     "execution_count": 11,
     "metadata": {},
     "output_type": "execute_result"
    }
   ],
   "source": [
    "mape = mean_absolute_percentage_error2(y_pred, y_test)\n",
    "mape"
   ]
  },
  {
   "cell_type": "code",
   "execution_count": 9,
   "id": "1ee9a354-ef34-41a3-9a22-ac0bf7b0dd10",
   "metadata": {},
   "outputs": [
    {
     "ename": "NameError",
     "evalue": "name 'mean_absolute_percentage_error2' is not defined",
     "output_type": "error",
     "traceback": [
      "\u001b[0;31m---------------------------------------------------------------------------\u001b[0m",
      "\u001b[0;31mNameError\u001b[0m                                 Traceback (most recent call last)",
      "\u001b[0;32m/tmp/ipykernel_19379/3451452622.py\u001b[0m in \u001b[0;36m<module>\u001b[0;34m\u001b[0m\n\u001b[0;32m----> 1\u001b[0;31m \u001b[0mmape\u001b[0m \u001b[0;34m=\u001b[0m \u001b[0mmean_absolute_percentage_error2\u001b[0m\u001b[0;34m(\u001b[0m\u001b[0my_train_pred\u001b[0m\u001b[0;34m,\u001b[0m \u001b[0my_train\u001b[0m\u001b[0;34m)\u001b[0m\u001b[0;34m\u001b[0m\u001b[0;34m\u001b[0m\u001b[0m\n\u001b[0m\u001b[1;32m      2\u001b[0m \u001b[0mmape\u001b[0m\u001b[0;34m\u001b[0m\u001b[0;34m\u001b[0m\u001b[0m\n",
      "\u001b[0;31mNameError\u001b[0m: name 'mean_absolute_percentage_error2' is not defined"
     ]
    }
   ],
   "source": [
    "mape = mean_absolute_percentage_error2(y_train_pred, y_train)\n",
    "mape"
   ]
  },
  {
   "cell_type": "code",
   "execution_count": 13,
   "id": "2df89d50-6d66-4f7b-bac1-61351f32f2c0",
   "metadata": {},
   "outputs": [],
   "source": [
    "dft = df.sample(frac=0.20)"
   ]
  },
  {
   "cell_type": "code",
   "execution_count": 14,
   "id": "fd78bda2-eceb-4486-ba76-cc251eca0de6",
   "metadata": {},
   "outputs": [
    {
     "data": {
      "text/plain": [
       "(84578, 75)"
      ]
     },
     "execution_count": 14,
     "metadata": {},
     "output_type": "execute_result"
    }
   ],
   "source": [
    "dft.shape"
   ]
  },
  {
   "cell_type": "code",
   "execution_count": 15,
   "id": "ecc94d41-f216-4106-bc66-9eabe2e2051b",
   "metadata": {},
   "outputs": [],
   "source": [
    "Xt = dft.drop([\"gasto_familiar\"], axis = 1)\n",
    "yt = dft[\"gasto_familiar\"]"
   ]
  },
  {
   "cell_type": "code",
   "execution_count": 16,
   "id": "0a65a078-539f-4d56-a2d5-47247314be4c",
   "metadata": {},
   "outputs": [],
   "source": [
    "Xt_train, Xt_test, yt_train, yt_test = train_test_split(Xt, yt, test_size=0.3)"
   ]
  },
  {
   "cell_type": "code",
   "execution_count": 17,
   "id": "9a9274b6-1c22-4ecf-99f9-95d70ac297b1",
   "metadata": {},
   "outputs": [
    {
     "data": {
      "text/plain": [
       "ElasticNetCV(random_state=0)"
      ]
     },
     "execution_count": 17,
     "metadata": {},
     "output_type": "execute_result"
    }
   ],
   "source": [
    "ENRegt = ElasticNetCV(random_state = 0)\n",
    "ENRegt.fit(Xt_train, yt_train)"
   ]
  },
  {
   "cell_type": "code",
   "execution_count": 18,
   "id": "570ff6ee-5f7c-4a71-a321-5ede1c931ea0",
   "metadata": {},
   "outputs": [
    {
     "data": {
      "text/plain": [
       "0.05462604868592369"
      ]
     },
     "execution_count": 18,
     "metadata": {},
     "output_type": "execute_result"
    }
   ],
   "source": [
    "ENRegt.score(Xt_train, yt_train)"
   ]
  },
  {
   "cell_type": "code",
   "execution_count": 19,
   "id": "913d9b24-cea0-4b42-89b4-d21769385915",
   "metadata": {},
   "outputs": [
    {
     "data": {
      "text/plain": [
       "0.04640330702250495"
      ]
     },
     "execution_count": 19,
     "metadata": {},
     "output_type": "execute_result"
    }
   ],
   "source": [
    "ENRegt.score(Xt_test, yt_test)"
   ]
  },
  {
   "cell_type": "code",
   "execution_count": 20,
   "id": "c240a96c-26bc-4636-8f67-d8963ffd5911",
   "metadata": {},
   "outputs": [],
   "source": [
    "from sklearn.linear_model import SGDRegressor\n",
    "from sklearn.pipeline import make_pipeline\n",
    "from sklearn.preprocessing import StandardScaler"
   ]
  },
  {
   "cell_type": "code",
   "execution_count": 21,
   "id": "26594091-c5ee-4f65-bc60-bb338eefe832",
   "metadata": {},
   "outputs": [
    {
     "data": {
      "text/plain": [
       "Pipeline(steps=[('standardscaler', StandardScaler()),\n",
       "                ('sgdregressor', SGDRegressor())])"
      ]
     },
     "execution_count": 21,
     "metadata": {},
     "output_type": "execute_result"
    }
   ],
   "source": [
    "reg = make_pipeline(StandardScaler(),\n",
    "                    SGDRegressor(max_iter=1000, tol=1e-3))\n",
    "reg.fit(X_train, y_train)"
   ]
  },
  {
   "cell_type": "code",
   "execution_count": 22,
   "id": "74172581-6873-431b-aee2-0bc7c47f0651",
   "metadata": {},
   "outputs": [
    {
     "data": {
      "text/plain": [
       "-3615057140.789904"
      ]
     },
     "execution_count": 22,
     "metadata": {},
     "output_type": "execute_result"
    }
   ],
   "source": [
    "reg.score(X_test, y_test)"
   ]
  },
  {
   "cell_type": "code",
   "execution_count": null,
   "id": "a5dca7e2-f76c-4898-8a47-6bd06ce8b369",
   "metadata": {},
   "outputs": [],
   "source": [
    "X_train, X_test, y_train, y_test "
   ]
  },
  {
   "cell_type": "code",
   "execution_count": 12,
   "id": "ed40d5d0-26d1-470b-b32e-6d46a701672f",
   "metadata": {},
   "outputs": [
    {
     "data": {
      "text/plain": [
       "KNeighborsRegressor(n_neighbors=10)"
      ]
     },
     "execution_count": 12,
     "metadata": {},
     "output_type": "execute_result"
    }
   ],
   "source": [
    "from sklearn.neighbors import KNeighborsRegressor\n",
    "neigh = KNeighborsRegressor(n_neighbors=10)\n",
    "neigh.fit(X_train, y_train)"
   ]
  },
  {
   "cell_type": "code",
   "execution_count": 13,
   "id": "588899c8-cd47-4515-be2b-9ca5ee47cbcf",
   "metadata": {},
   "outputs": [
    {
     "name": "stderr",
     "output_type": "stream",
     "text": [
      "/opt/conda/lib/python3.7/site-packages/sklearn/base.py:442: UserWarning: X does not have valid feature names, but KNeighborsRegressor was fitted with feature names\n",
      "  \"X does not have valid feature names, but\"\n"
     ]
    }
   ],
   "source": [
    "y_pre = neigh.predict(X_test)"
   ]
  },
  {
   "cell_type": "code",
   "execution_count": 14,
   "id": "6e3a26a6-0f55-43da-8c17-2122cedd4316",
   "metadata": {},
   "outputs": [
    {
     "data": {
      "text/plain": [
       "86.03363405034301"
      ]
     },
     "execution_count": 14,
     "metadata": {},
     "output_type": "execute_result"
    }
   ],
   "source": [
    "mape = mean_absolute_percentage_error2(y_pre, y_test)\n",
    "mape"
   ]
  },
  {
   "cell_type": "code",
   "execution_count": 15,
   "id": "6ecb1ea8-10d7-4a5a-9d1e-92e05e9c95fa",
   "metadata": {},
   "outputs": [],
   "source": [
    "new_df = df.sample(frac = 0.05)\n",
    "Xn = new_df.drop([\"gasto_familiar\"], axis = 1)\n",
    "yn = new_df[\"gasto_familiar\"]\n",
    "\n",
    "Xn_train, Xn_test, yn_train, yn_test = train_test_split(Xn, yn, test_size = 0.3)"
   ]
  },
  {
   "cell_type": "code",
   "execution_count": 22,
   "id": "34ab5b14-3efb-4dc1-b70b-2e71f2f1f510",
   "metadata": {},
   "outputs": [],
   "source": [
    "from sklearn.model_selection import cross_val_score\n",
    "from sklearn.model_selection import cross_validate\n",
    "from sklearn.linear_model import ElasticNetCV\n",
    "\n",
    "ENRegr = ElasticNetCV(random_state = 12)\n",
    "scores = cross_validate(ENRegr, Xn, yn,return_train_score = True, cv=5)"
   ]
  },
  {
   "cell_type": "code",
   "execution_count": 23,
   "id": "d4f8945e-a050-40a1-a60b-1ed8b9bf476d",
   "metadata": {},
   "outputs": [
    {
     "data": {
      "text/plain": [
       "{'fit_time': array([0.50767851, 0.5270021 , 0.52464652, 0.51926494, 0.4890933 ]),\n",
       " 'score_time': array([0.00557613, 0.00551629, 0.00563979, 0.00584531, 0.00527501]),\n",
       " 'test_score': array([-0.44488124,  0.03290953,  0.04232167,  0.04415034,  0.04205877]),\n",
       " 'train_score': array([0.05763469, 0.0414832 , 0.03717012, 0.03704063, 0.03970907])}"
      ]
     },
     "execution_count": 23,
     "metadata": {},
     "output_type": "execute_result"
    }
   ],
   "source": [
    "scores"
   ]
  },
  {
   "cell_type": "code",
   "execution_count": 24,
   "id": "d89af835-b651-422d-bc66-e09805dad5a8",
   "metadata": {},
   "outputs": [
    {
     "name": "stdout",
     "output_type": "stream",
     "text": [
      "Entrenamiento: 0.04260754132214981\n",
      "Test: -0.05668818671829219\n"
     ]
    }
   ],
   "source": [
    "print(f\"Entrenamiento: {np.mean(scores['train_score'])}\")\n",
    "print(f\"Test: {np.mean(scores['test_score'])}\")"
   ]
  },
  {
   "cell_type": "code",
   "execution_count": 25,
   "id": "fd229be0-66fa-4eec-9e70-6c67670acfee",
   "metadata": {},
   "outputs": [
    {
     "name": "stderr",
     "output_type": "stream",
     "text": [
      "/opt/conda/lib/python3.7/site-packages/sklearn/base.py:442: UserWarning: X does not have valid feature names, but KNeighborsRegressor was fitted with feature names\n",
      "  \"X does not have valid feature names, but\"\n",
      "/opt/conda/lib/python3.7/site-packages/sklearn/base.py:442: UserWarning: X does not have valid feature names, but KNeighborsRegressor was fitted with feature names\n",
      "  \"X does not have valid feature names, but\"\n",
      "/opt/conda/lib/python3.7/site-packages/sklearn/base.py:442: UserWarning: X does not have valid feature names, but KNeighborsRegressor was fitted with feature names\n",
      "  \"X does not have valid feature names, but\"\n",
      "/opt/conda/lib/python3.7/site-packages/sklearn/base.py:442: UserWarning: X does not have valid feature names, but KNeighborsRegressor was fitted with feature names\n",
      "  \"X does not have valid feature names, but\"\n",
      "/opt/conda/lib/python3.7/site-packages/sklearn/base.py:442: UserWarning: X does not have valid feature names, but KNeighborsRegressor was fitted with feature names\n",
      "  \"X does not have valid feature names, but\"\n",
      "/opt/conda/lib/python3.7/site-packages/sklearn/base.py:442: UserWarning: X does not have valid feature names, but KNeighborsRegressor was fitted with feature names\n",
      "  \"X does not have valid feature names, but\"\n",
      "/opt/conda/lib/python3.7/site-packages/sklearn/base.py:442: UserWarning: X does not have valid feature names, but KNeighborsRegressor was fitted with feature names\n",
      "  \"X does not have valid feature names, but\"\n",
      "/opt/conda/lib/python3.7/site-packages/sklearn/base.py:442: UserWarning: X does not have valid feature names, but KNeighborsRegressor was fitted with feature names\n",
      "  \"X does not have valid feature names, but\"\n",
      "/opt/conda/lib/python3.7/site-packages/sklearn/base.py:442: UserWarning: X does not have valid feature names, but KNeighborsRegressor was fitted with feature names\n",
      "  \"X does not have valid feature names, but\"\n",
      "/opt/conda/lib/python3.7/site-packages/sklearn/base.py:442: UserWarning: X does not have valid feature names, but KNeighborsRegressor was fitted with feature names\n",
      "  \"X does not have valid feature names, but\"\n"
     ]
    }
   ],
   "source": [
    "knn_scores = cross_validate(KNeighborsRegressor(n_neighbors=2), Xn, yn,return_train_score = True, cv=5)"
   ]
  },
  {
   "cell_type": "code",
   "execution_count": 26,
   "id": "8364daa7-e973-40f3-8173-1ad374797feb",
   "metadata": {},
   "outputs": [
    {
     "name": "stdout",
     "output_type": "stream",
     "text": [
      "Entrenamiento: 0.5622645734741077\n",
      "Test: -0.31884324454531254\n"
     ]
    }
   ],
   "source": [
    "print(f\"Entrenamiento: {np.mean(knn_scores['train_score'])}\")\n",
    "print(f\"Test: {np.mean(knn_scores['test_score'])}\")"
   ]
  },
  {
   "cell_type": "code",
   "execution_count": 27,
   "id": "9232f40b-38ec-45f6-9cb2-3d2b684656ba",
   "metadata": {},
   "outputs": [
    {
     "name": "stderr",
     "output_type": "stream",
     "text": [
      "/opt/conda/lib/python3.7/site-packages/sklearn/base.py:442: UserWarning: X does not have valid feature names, but KNeighborsRegressor was fitted with feature names\n",
      "  \"X does not have valid feature names, but\"\n",
      "/opt/conda/lib/python3.7/site-packages/sklearn/base.py:442: UserWarning: X does not have valid feature names, but KNeighborsRegressor was fitted with feature names\n",
      "  \"X does not have valid feature names, but\"\n",
      "/opt/conda/lib/python3.7/site-packages/sklearn/base.py:442: UserWarning: X does not have valid feature names, but KNeighborsRegressor was fitted with feature names\n",
      "  \"X does not have valid feature names, but\"\n",
      "/opt/conda/lib/python3.7/site-packages/sklearn/base.py:442: UserWarning: X does not have valid feature names, but KNeighborsRegressor was fitted with feature names\n",
      "  \"X does not have valid feature names, but\"\n",
      "/opt/conda/lib/python3.7/site-packages/sklearn/base.py:442: UserWarning: X does not have valid feature names, but KNeighborsRegressor was fitted with feature names\n",
      "  \"X does not have valid feature names, but\"\n",
      "/opt/conda/lib/python3.7/site-packages/sklearn/base.py:442: UserWarning: X does not have valid feature names, but KNeighborsRegressor was fitted with feature names\n",
      "  \"X does not have valid feature names, but\"\n",
      "/opt/conda/lib/python3.7/site-packages/sklearn/base.py:442: UserWarning: X does not have valid feature names, but KNeighborsRegressor was fitted with feature names\n",
      "  \"X does not have valid feature names, but\"\n",
      "/opt/conda/lib/python3.7/site-packages/sklearn/base.py:442: UserWarning: X does not have valid feature names, but KNeighborsRegressor was fitted with feature names\n",
      "  \"X does not have valid feature names, but\"\n",
      "/opt/conda/lib/python3.7/site-packages/sklearn/base.py:442: UserWarning: X does not have valid feature names, but KNeighborsRegressor was fitted with feature names\n",
      "  \"X does not have valid feature names, but\"\n",
      "/opt/conda/lib/python3.7/site-packages/sklearn/base.py:442: UserWarning: X does not have valid feature names, but KNeighborsRegressor was fitted with feature names\n",
      "  \"X does not have valid feature names, but\"\n"
     ]
    },
    {
     "name": "stdout",
     "output_type": "stream",
     "text": [
      "Entrenamiento: 0.5622645734741077\n",
      "Test: -0.31884324454531254\n"
     ]
    }
   ],
   "source": [
    "knn2_scores = cross_validate(KNeighborsRegressor(n_neighbors=2), Xn, yn,return_train_score = True, cv=5)\n",
    "print(f\"Entrenamiento: {np.mean(knn2_scores['train_score'])}\")\n",
    "print(f\"Test: {np.mean(knn2_scores['test_score'])}\")"
   ]
  },
  {
   "cell_type": "code",
   "execution_count": 28,
   "id": "966032db-46b0-4a0b-b493-b6c439bda41e",
   "metadata": {},
   "outputs": [
    {
     "name": "stderr",
     "output_type": "stream",
     "text": [
      "/opt/conda/lib/python3.7/site-packages/sklearn/base.py:442: UserWarning: X does not have valid feature names, but KNeighborsRegressor was fitted with feature names\n",
      "  \"X does not have valid feature names, but\"\n",
      "/opt/conda/lib/python3.7/site-packages/sklearn/base.py:442: UserWarning: X does not have valid feature names, but KNeighborsRegressor was fitted with feature names\n",
      "  \"X does not have valid feature names, but\"\n",
      "/opt/conda/lib/python3.7/site-packages/sklearn/base.py:442: UserWarning: X does not have valid feature names, but KNeighborsRegressor was fitted with feature names\n",
      "  \"X does not have valid feature names, but\"\n",
      "/opt/conda/lib/python3.7/site-packages/sklearn/base.py:442: UserWarning: X does not have valid feature names, but KNeighborsRegressor was fitted with feature names\n",
      "  \"X does not have valid feature names, but\"\n",
      "/opt/conda/lib/python3.7/site-packages/sklearn/base.py:442: UserWarning: X does not have valid feature names, but KNeighborsRegressor was fitted with feature names\n",
      "  \"X does not have valid feature names, but\"\n",
      "/opt/conda/lib/python3.7/site-packages/sklearn/base.py:442: UserWarning: X does not have valid feature names, but KNeighborsRegressor was fitted with feature names\n",
      "  \"X does not have valid feature names, but\"\n",
      "/opt/conda/lib/python3.7/site-packages/sklearn/base.py:442: UserWarning: X does not have valid feature names, but KNeighborsRegressor was fitted with feature names\n",
      "  \"X does not have valid feature names, but\"\n",
      "/opt/conda/lib/python3.7/site-packages/sklearn/base.py:442: UserWarning: X does not have valid feature names, but KNeighborsRegressor was fitted with feature names\n",
      "  \"X does not have valid feature names, but\"\n",
      "/opt/conda/lib/python3.7/site-packages/sklearn/base.py:442: UserWarning: X does not have valid feature names, but KNeighborsRegressor was fitted with feature names\n",
      "  \"X does not have valid feature names, but\"\n",
      "/opt/conda/lib/python3.7/site-packages/sklearn/base.py:442: UserWarning: X does not have valid feature names, but KNeighborsRegressor was fitted with feature names\n",
      "  \"X does not have valid feature names, but\"\n"
     ]
    },
    {
     "name": "stdout",
     "output_type": "stream",
     "text": [
      "Entrenamiento: 0.1492600061578848\n",
      "Test: 0.06098105173951176\n"
     ]
    }
   ],
   "source": [
    "knn20_scores = cross_validate(KNeighborsRegressor(n_neighbors=20), Xn, yn,return_train_score = True, cv=5)\n",
    "print(f\"Entrenamiento: {np.mean(knn20_scores['train_score'])}\")\n",
    "print(f\"Test: {np.mean(knn20_scores['test_score'])}\")"
   ]
  },
  {
   "cell_type": "code",
   "execution_count": 31,
   "id": "e8e4ee05-43ed-4adb-a1fe-82a63561e033",
   "metadata": {},
   "outputs": [],
   "source": [
    "from sklearn.ensemble import GradientBoostingRegressor\n",
    "\n",
    "params = {'n_estimators': 800, 'max_depth': 16,\n",
    "          'loss': 'huber','alpha':0.95}\n",
    "\n",
    "GBReg = GradientBoostingRegressor(**params)"
   ]
  },
  {
   "cell_type": "code",
   "execution_count": 32,
   "id": "ee521ca0-51ba-4a32-8582-4f7dc7f16c2f",
   "metadata": {},
   "outputs": [
    {
     "name": "stdout",
     "output_type": "stream",
     "text": [
      "Entrenamiento: 0.9997914594835071\n",
      "Test: -0.011250145260617895\n"
     ]
    }
   ],
   "source": [
    "gbt_scores = cross_validate(GBReg, Xn, yn,return_train_score = True, cv=5)\n",
    "print(f\"Entrenamiento: {np.mean(gbt_scores['train_score'])}\")\n",
    "print(f\"Test: {np.mean(gbt_scores['test_score'])}\")"
   ]
  },
  {
   "cell_type": "code",
   "execution_count": 34,
   "id": "d0c429fa-65c0-4c92-8f01-ce3596bb127a",
   "metadata": {},
   "outputs": [],
   "source": [
    "from sklearn.svm import SVR"
   ]
  },
  {
   "cell_type": "code",
   "execution_count": 35,
   "id": "21446b6f-ad06-4c6b-97a3-6e77131c709e",
   "metadata": {},
   "outputs": [
    {
     "name": "stdout",
     "output_type": "stream",
     "text": [
      "[LibSVM].........\n",
      "Warning: using -h 0 may be faster\n",
      "*\n",
      "optimization finished, #iter = 9506\n",
      "obj = -6823207855.603618, rho = -428924.074863\n",
      "nSV = 16914, nBSV = 16914\n",
      "[LibSVM].........\n",
      "Warning: using -h 0 may be faster\n",
      "*\n",
      "optimization finished, #iter = 9547\n",
      "obj = -6854443426.901639, rho = -430720.438374\n",
      "nSV = 16914, nBSV = 16914\n",
      "[LibSVM].........\n",
      "Warning: using -h 0 may be faster\n",
      "*\n",
      "optimization finished, #iter = 9539\n",
      "obj = -6857333962.521228, rho = -429160.926645\n",
      "nSV = 16914, nBSV = 16914\n",
      "[LibSVM].........\n",
      "Warning: using -h 0 may be faster\n",
      "*\n",
      "optimization finished, #iter = 9578\n",
      "obj = -6845934783.080253, rho = -433726.887896\n",
      "nSV = 16914, nBSV = 16914\n",
      "[LibSVM].........\n",
      "Warning: using -h 0 may be faster\n",
      "*\n",
      "optimization finished, #iter = 9525\n",
      "obj = -6787644724.178686, rho = -428094.925806\n",
      "nSV = 16916, nBSV = 16916\n",
      "Entrenamiento: -0.10972346820284593\n",
      "Test: -0.1099292147149041\n"
     ]
    }
   ],
   "source": [
    "svm_scores = cross_validate(SVR(C=1.0, epsilon=0.2, verbose=True), Xn, yn,return_train_score = True, cv=5)\n",
    "print(f\"Entrenamiento: {np.mean(svm_scores['train_score'])}\")\n",
    "print(f\"Test: {np.mean(svm_scores['test_score'])}\")"
   ]
  },
  {
   "cell_type": "code",
   "execution_count": null,
   "id": "9705ecb1-7795-4177-8572-47ec6d6a9e64",
   "metadata": {},
   "outputs": [],
   "source": []
  }
 ],
 "metadata": {
  "environment": {
   "kernel": "python3",
   "name": "common-cpu.m82",
   "type": "gcloud",
   "uri": "gcr.io/deeplearning-platform-release/base-cpu:m82"
  },
  "kernelspec": {
   "display_name": "Python 3",
   "language": "python",
   "name": "python3"
  },
  "language_info": {
   "codemirror_mode": {
    "name": "ipython",
    "version": 3
   },
   "file_extension": ".py",
   "mimetype": "text/x-python",
   "name": "python",
   "nbconvert_exporter": "python",
   "pygments_lexer": "ipython3",
   "version": "3.7.10"
  }
 },
 "nbformat": 4,
 "nbformat_minor": 5
}
