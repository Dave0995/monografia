{
 "cells": [
  {
   "cell_type": "code",
   "execution_count": 1,
   "id": "a320ecad",
   "metadata": {},
   "outputs": [],
   "source": [
    "import pandas as pd\n",
    "import numpy as np\n",
    "import matplotlib.pyplot as plt\n",
    "import seaborn as sns\n",
    "\n",
    "pd.set_option('display.max_columns', 100)\n",
    "sns.set_style()"
   ]
  },
  {
   "cell_type": "code",
   "execution_count": 2,
   "id": "e277f32f",
   "metadata": {},
   "outputs": [
    {
     "data": {
      "text/html": [
       "<div>\n",
       "<style scoped>\n",
       "    .dataframe tbody tr th:only-of-type {\n",
       "        vertical-align: middle;\n",
       "    }\n",
       "\n",
       "    .dataframe tbody tr th {\n",
       "        vertical-align: top;\n",
       "    }\n",
       "\n",
       "    .dataframe thead th {\n",
       "        text-align: right;\n",
       "    }\n",
       "</style>\n",
       "<table border=\"1\" class=\"dataframe\">\n",
       "  <thead>\n",
       "    <tr style=\"text-align: right;\">\n",
       "      <th></th>\n",
       "      <th>ult_actual</th>\n",
       "      <th>categoria</th>\n",
       "      <th>cupo_total_tc</th>\n",
       "      <th>ingreso_final</th>\n",
       "      <th>saldo_no_rot_mdo</th>\n",
       "      <th>cant_oblig_tot_sf</th>\n",
       "      <th>ind</th>\n",
       "      <th>gasto_familiar</th>\n",
       "      <th>cuotas_pagar</th>\n",
       "      <th>ingreso_poc</th>\n",
       "      <th>age_cat</th>\n",
       "      <th>genre</th>\n",
       "      <th>occupation</th>\n",
       "      <th>civil_status</th>\n",
       "      <th>academic_level</th>\n",
       "      <th>house_kind</th>\n",
       "      <th>pending_arrears</th>\n",
       "      <th>have_tc</th>\n",
       "    </tr>\n",
       "  </thead>\n",
       "  <tbody>\n",
       "    <tr>\n",
       "      <th>0</th>\n",
       "      <td>20180526</td>\n",
       "      <td>1.0</td>\n",
       "      <td>0.0</td>\n",
       "      <td>1173431.0</td>\n",
       "      <td>903000.0</td>\n",
       "      <td>1.0</td>\n",
       "      <td>311715.5</td>\n",
       "      <td>232526.0</td>\n",
       "      <td>NaN</td>\n",
       "      <td>NaN</td>\n",
       "      <td>Y</td>\n",
       "      <td>1</td>\n",
       "      <td>empleado</td>\n",
       "      <td>divorciado</td>\n",
       "      <td>tecnologo</td>\n",
       "      <td>alquilada</td>\n",
       "      <td>0</td>\n",
       "      <td>0</td>\n",
       "    </tr>\n",
       "    <tr>\n",
       "      <th>1</th>\n",
       "      <td>20180526</td>\n",
       "      <td>1.0</td>\n",
       "      <td>0.0</td>\n",
       "      <td>1173431.0</td>\n",
       "      <td>903000.0</td>\n",
       "      <td>1.0</td>\n",
       "      <td>311715.5</td>\n",
       "      <td>265900.0</td>\n",
       "      <td>NaN</td>\n",
       "      <td>NaN</td>\n",
       "      <td>Y</td>\n",
       "      <td>1</td>\n",
       "      <td>empleado</td>\n",
       "      <td>divorciado</td>\n",
       "      <td>tecnologo</td>\n",
       "      <td>alquilada</td>\n",
       "      <td>0</td>\n",
       "      <td>0</td>\n",
       "    </tr>\n",
       "    <tr>\n",
       "      <th>2</th>\n",
       "      <td>20180526</td>\n",
       "      <td>1.0</td>\n",
       "      <td>0.0</td>\n",
       "      <td>1172612.0</td>\n",
       "      <td>903000.0</td>\n",
       "      <td>1.0</td>\n",
       "      <td>311306.0</td>\n",
       "      <td>243052.0</td>\n",
       "      <td>NaN</td>\n",
       "      <td>NaN</td>\n",
       "      <td>Y</td>\n",
       "      <td>1</td>\n",
       "      <td>empleado</td>\n",
       "      <td>divorciado</td>\n",
       "      <td>tecnologo</td>\n",
       "      <td>alquilada</td>\n",
       "      <td>0</td>\n",
       "      <td>0</td>\n",
       "    </tr>\n",
       "    <tr>\n",
       "      <th>3</th>\n",
       "      <td>20180526</td>\n",
       "      <td>1.0</td>\n",
       "      <td>0.0</td>\n",
       "      <td>1172612.0</td>\n",
       "      <td>2433000.0</td>\n",
       "      <td>1.0</td>\n",
       "      <td>311306.0</td>\n",
       "      <td>276014.0</td>\n",
       "      <td>NaN</td>\n",
       "      <td>NaN</td>\n",
       "      <td>Y</td>\n",
       "      <td>1</td>\n",
       "      <td>empleado</td>\n",
       "      <td>divorciado</td>\n",
       "      <td>tecnologo</td>\n",
       "      <td>alquilada</td>\n",
       "      <td>0</td>\n",
       "      <td>0</td>\n",
       "    </tr>\n",
       "    <tr>\n",
       "      <th>4</th>\n",
       "      <td>20180526</td>\n",
       "      <td>1.0</td>\n",
       "      <td>0.0</td>\n",
       "      <td>1172612.0</td>\n",
       "      <td>2193000.0</td>\n",
       "      <td>1.0</td>\n",
       "      <td>311306.0</td>\n",
       "      <td>245000.0</td>\n",
       "      <td>NaN</td>\n",
       "      <td>NaN</td>\n",
       "      <td>Y</td>\n",
       "      <td>1</td>\n",
       "      <td>empleado</td>\n",
       "      <td>divorciado</td>\n",
       "      <td>tecnologo</td>\n",
       "      <td>alquilada</td>\n",
       "      <td>0</td>\n",
       "      <td>0</td>\n",
       "    </tr>\n",
       "  </tbody>\n",
       "</table>\n",
       "</div>"
      ],
      "text/plain": [
       "   ult_actual  categoria  cupo_total_tc  ingreso_final  saldo_no_rot_mdo  \\\n",
       "0    20180526        1.0            0.0      1173431.0          903000.0   \n",
       "1    20180526        1.0            0.0      1173431.0          903000.0   \n",
       "2    20180526        1.0            0.0      1172612.0          903000.0   \n",
       "3    20180526        1.0            0.0      1172612.0         2433000.0   \n",
       "4    20180526        1.0            0.0      1172612.0         2193000.0   \n",
       "\n",
       "   cant_oblig_tot_sf       ind  gasto_familiar  cuotas_pagar  ingreso_poc  \\\n",
       "0                1.0  311715.5        232526.0           NaN          NaN   \n",
       "1                1.0  311715.5        265900.0           NaN          NaN   \n",
       "2                1.0  311306.0        243052.0           NaN          NaN   \n",
       "3                1.0  311306.0        276014.0           NaN          NaN   \n",
       "4                1.0  311306.0        245000.0           NaN          NaN   \n",
       "\n",
       "  age_cat  genre occupation civil_status academic_level house_kind  \\\n",
       "0       Y      1   empleado   divorciado      tecnologo  alquilada   \n",
       "1       Y      1   empleado   divorciado      tecnologo  alquilada   \n",
       "2       Y      1   empleado   divorciado      tecnologo  alquilada   \n",
       "3       Y      1   empleado   divorciado      tecnologo  alquilada   \n",
       "4       Y      1   empleado   divorciado      tecnologo  alquilada   \n",
       "\n",
       "   pending_arrears  have_tc  \n",
       "0                0        0  \n",
       "1                0        0  \n",
       "2                0        0  \n",
       "3                0        0  \n",
       "4                0        0  "
      ]
     },
     "execution_count": 2,
     "metadata": {},
     "output_type": "execute_result"
    }
   ],
   "source": [
    "cols = ['ult_actual', 'categoria', 'cupo_total_tc', 'ingreso_final', 'saldo_no_rot_mdo',\n",
    "        'cant_oblig_tot_sf', 'ind', 'gasto_familiar', 'cuotas_pagar', 'ingreso_poc',\n",
    "        'age_cat', 'genre', 'occupation', 'civil_status', 'academic_level', 'house_kind',\n",
    "        'pending_arrears', 'have_tc']\n",
    "    \n",
    "df = pd.read_csv(\"fbruta.csv\", header = None, sep = \",\", names = cols)\n",
    "df.head()"
   ]
  },
  {
   "cell_type": "code",
   "execution_count": 3,
   "id": "0b9e2dc6",
   "metadata": {},
   "outputs": [
    {
     "data": {
      "text/plain": [
       "ult_actual                 0\n",
       "categoria              15478\n",
       "cupo_total_tc              0\n",
       "ingreso_final           7283\n",
       "saldo_no_rot_mdo           0\n",
       "cant_oblig_tot_sf      77082\n",
       "ind                        0\n",
       "gasto_familiar             0\n",
       "cuotas_pagar         2346064\n",
       "ingreso_poc          2155445\n",
       "age_cat                    0\n",
       "genre                      0\n",
       "occupation                 0\n",
       "civil_status               0\n",
       "academic_level             0\n",
       "house_kind                 0\n",
       "pending_arrears            0\n",
       "have_tc                    0\n",
       "dtype: int64"
      ]
     },
     "execution_count": 3,
     "metadata": {},
     "output_type": "execute_result"
    }
   ],
   "source": [
    "df.isna().sum()"
   ]
  },
  {
   "cell_type": "code",
   "execution_count": 4,
   "id": "bfd56dc4",
   "metadata": {},
   "outputs": [],
   "source": [
    "df = df.dropna(subset = [\"categoria\"])\n",
    "df[\"categoria\"] = df[\"categoria\"].astype(np.int64).astype(object)"
   ]
  },
  {
   "cell_type": "code",
   "execution_count": 5,
   "id": "921a2cdd",
   "metadata": {},
   "outputs": [],
   "source": [
    "df = df.fillna(0)"
   ]
  },
  {
   "cell_type": "markdown",
   "id": "c96760b5",
   "metadata": {},
   "source": [
    "## Variables categoricas"
   ]
  },
  {
   "cell_type": "code",
   "execution_count": 6,
   "id": "b536c5e7",
   "metadata": {},
   "outputs": [
    {
     "data": {
      "image/png": "[encoded data removed]",
      "text/plain": [
       "<Figure size 432x288 with 1 Axes>"
      ]
     },
     "metadata": {
      "needs_background": "light"
     },
     "output_type": "display_data"
    }
   ],
   "source": [
    "x = pd.DataFrame(df[\"age_cat\"].value_counts())\n",
    "x.plot.bar();"
   ]
  },
  {
   "cell_type": "code",
   "execution_count": 7,
   "id": "291e6761",
   "metadata": {},
   "outputs": [
    {
     "data": {
      "image/png": "[encoded data removed]",
      "text/plain": [
       "<Figure size 432x288 with 1 Axes>"
      ]
     },
     "metadata": {
      "needs_background": "light"
     },
     "output_type": "display_data"
    }
   ],
   "source": [
    "x = pd.DataFrame(df[\"occupation\"].value_counts())\n",
    "x.plot.bar();"
   ]
  },
  {
   "cell_type": "code",
   "execution_count": 8,
   "id": "f7d24a5d",
   "metadata": {},
   "outputs": [
    {
     "data": {
      "image/png": "[encoded data removed]",
      "text/plain": [
       "<Figure size 432x288 with 1 Axes>"
      ]
     },
     "metadata": {
      "needs_background": "light"
     },
     "output_type": "display_data"
    }
   ],
   "source": [
    "x = pd.DataFrame(df[\"civil_status\"].value_counts())\n",
    "x.plot.bar();"
   ]
  },
  {
   "cell_type": "code",
   "execution_count": 9,
   "id": "5813f810",
   "metadata": {},
   "outputs": [
    {
     "data": {
      "image/png": "[encoded data removed]",
      "text/plain": [
       "<Figure size 432x288 with 1 Axes>"
      ]
     },
     "metadata": {
      "needs_background": "light"
     },
     "output_type": "display_data"
    }
   ],
   "source": [
    "x = pd.DataFrame(df[\"academic_level\"].value_counts())\n",
    "x.plot.bar();"
   ]
  },
  {
   "cell_type": "code",
   "execution_count": 10,
   "id": "be123eef",
   "metadata": {},
   "outputs": [
    {
     "data": {
      "image/png": "[encoded data removed]",
      "text/plain": [
       "<Figure size 432x288 with 1 Axes>"
      ]
     },
     "metadata": {
      "needs_background": "light"
     },
     "output_type": "display_data"
    }
   ],
   "source": [
    "x = pd.DataFrame(df[\"house_kind\"].value_counts())\n",
    "x.plot.bar();"
   ]
  },
  {
   "cell_type": "code",
   "execution_count": 11,
   "id": "64e5699c",
   "metadata": {},
   "outputs": [
    {
     "data": {
      "image/png": "[encoded data removed]",
      "text/plain": [
       "<Figure size 432x288 with 1 Axes>"
      ]
     },
     "metadata": {
      "needs_background": "light"
     },
     "output_type": "display_data"
    }
   ],
   "source": [
    "x = pd.DataFrame(df[\"categoria\"].value_counts())\n",
    "x.plot.bar();"
   ]
  },
  {
   "cell_type": "code",
   "execution_count": 12,
   "id": "6066e447",
   "metadata": {},
   "outputs": [
    {
     "data": {
      "image/png": "[encoded data removed]",
      "text/plain": [
       "<Figure size 432x288 with 1 Axes>"
      ]
     },
     "metadata": {
      "needs_background": "light"
     },
     "output_type": "display_data"
    }
   ],
   "source": [
    "x = pd.DataFrame(df[\"have_tc\"].value_counts())\n",
    "x.plot.bar();"
   ]
  },
  {
   "cell_type": "code",
   "execution_count": 13,
   "id": "e04d52d9",
   "metadata": {},
   "outputs": [
    {
     "data": {
      "text/plain": [
       "ult_actual             int64\n",
       "categoria              int64\n",
       "cupo_total_tc        float64\n",
       "ingreso_final        float64\n",
       "saldo_no_rot_mdo     float64\n",
       "cant_oblig_tot_sf    float64\n",
       "ind                  float64\n",
       "gasto_familiar       float64\n",
       "cuotas_pagar         float64\n",
       "ingreso_poc          float64\n",
       "age_cat               object\n",
       "genre                  int64\n",
       "occupation            object\n",
       "civil_status          object\n",
       "academic_level        object\n",
       "house_kind            object\n",
       "pending_arrears        int64\n",
       "have_tc                int64\n",
       "dtype: object"
      ]
     },
     "execution_count": 13,
     "metadata": {},
     "output_type": "execute_result"
    }
   ],
   "source": [
    "df.dtypes"
   ]
  },
  {
   "cell_type": "markdown",
   "id": "7b8063e4",
   "metadata": {},
   "source": [
    "## Variables númericas"
   ]
  },
  {
   "cell_type": "code",
   "execution_count": 14,
   "id": "ff998fcb",
   "metadata": {},
   "outputs": [
    {
     "data": {
      "image/png": "[encoded data removed]",
      "text/plain": [
       "<Figure size 432x288 with 1 Axes>"
      ]
     },
     "metadata": {
      "needs_background": "light"
     },
     "output_type": "display_data"
    }
   ],
   "source": [
    "df[\"ingreso_final\"].hist();"
   ]
  },
  {
   "cell_type": "code",
   "execution_count": 15,
   "id": "24d78025",
   "metadata": {},
   "outputs": [
    {
     "data": {
      "image/png": "[encoded data removed]",
      "text/plain": [
       "<Figure size 432x288 with 1 Axes>"
      ]
     },
     "metadata": {
      "needs_background": "light"
     },
     "output_type": "display_data"
    }
   ],
   "source": [
    "df[\"ind\"].hist();"
   ]
  },
  {
   "cell_type": "code",
   "execution_count": 16,
   "id": "ae387633",
   "metadata": {},
   "outputs": [
    {
     "data": {
      "image/png": "[encoded data removed]",
      "text/plain": [
       "<Figure size 432x288 with 1 Axes>"
      ]
     },
     "metadata": {
      "needs_background": "light"
     },
     "output_type": "display_data"
    }
   ],
   "source": [
    "df[\"gasto_familiar\"].hist();"
   ]
  },
  {
   "cell_type": "markdown",
   "id": "207f37c6",
   "metadata": {},
   "source": [
    "### Eliminación de outliers"
   ]
  },
  {
   "cell_type": "code",
   "execution_count": 17,
   "id": "9a8d09b8",
   "metadata": {},
   "outputs": [],
   "source": [
    "max_gf = df.gasto_familiar.quantile(0.95)\n",
    "min_gf = df.gasto_familiar.quantile(0.05)\n",
    "max_if = df.ingreso_final.quantile(0.95)\n",
    "min_if = df.ingreso_final.quantile(0.05)\n",
    "max_ind = df.ind.quantile(0.95)\n",
    "min_ind = df.ind.quantile(0.05)"
   ]
  },
  {
   "cell_type": "code",
   "execution_count": 18,
   "id": "b0935dc1",
   "metadata": {},
   "outputs": [],
   "source": [
    "df = df[(df['ingreso_final'] > min_if) & (df['ingreso_final']< max_if)]\n",
    "df = df[(df['ind'] > min_ind) & (df['ind']< max_ind)]\n",
    "df = df[(df['gasto_familiar'] > min_gf) & (df['gasto_familiar']< max_gf)]"
   ]
  },
  {
   "cell_type": "code",
   "execution_count": 19,
   "id": "913e8459",
   "metadata": {},
   "outputs": [
    {
     "data": {
      "image/png": "[encoded data removed]",
      "text/plain": [
       "<Figure size 432x288 with 1 Axes>"
      ]
     },
     "metadata": {
      "needs_background": "light"
     },
     "output_type": "display_data"
    }
   ],
   "source": [
    "df[\"ingreso_final\"].hist();"
   ]
  },
  {
   "cell_type": "code",
   "execution_count": 20,
   "id": "aaba7557",
   "metadata": {},
   "outputs": [
    {
     "data": {
      "image/png": "[encoded data removed]",
      "text/plain": [
       "<Figure size 432x288 with 1 Axes>"
      ]
     },
     "metadata": {
      "needs_background": "light"
     },
     "output_type": "display_data"
    }
   ],
   "source": [
    "df[\"ind\"].hist();"
   ]
  },
  {
   "cell_type": "code",
   "execution_count": 21,
   "id": "4117efbb",
   "metadata": {},
   "outputs": [
    {
     "data": {
      "image/png": "[encoded data removed]",
      "text/plain": [
       "<Figure size 432x288 with 1 Axes>"
      ]
     },
     "metadata": {
      "needs_background": "light"
     },
     "output_type": "display_data"
    }
   ],
   "source": [
    "df[\"gasto_familiar\"].hist();"
   ]
  },
  {
   "cell_type": "markdown",
   "id": "da42355e",
   "metadata": {},
   "source": [
    "### One Hot Encoding"
   ]
  },
  {
   "cell_type": "code",
   "execution_count": 23,
   "id": "39a7a80e",
   "metadata": {},
   "outputs": [
    {
     "data": {
      "text/plain": [
       "Index(['age_cat', 'occupation', 'civil_status', 'academic_level',\n",
       "       'house_kind'],\n",
       "      dtype='object')"
      ]
     },
     "execution_count": 23,
     "metadata": {},
     "output_type": "execute_result"
    }
   ],
   "source": [
    "categorical = df.select_dtypes(include=['object'])\n",
    "names = categorical.columns\n",
    "names"
   ]
  },
  {
   "cell_type": "code",
   "execution_count": 24,
   "id": "adc561b0",
   "metadata": {},
   "outputs": [],
   "source": [
    "df = pd.get_dummies(df, prefix=names)\n",
    "df = df.drop([\"age_cat_BB\", \"civil_status_casado\", \"academic_level_bachiller\", \n",
    "              \"occupation_agricultor\", \"house_kind_alquilada\"], axis = 1)"
   ]
  },
  {
   "cell_type": "code",
   "execution_count": 25,
   "id": "99e7146a",
   "metadata": {},
   "outputs": [
    {
     "data": {
      "text/plain": [
       "(1999652, 40)"
      ]
     },
     "execution_count": 25,
     "metadata": {},
     "output_type": "execute_result"
    }
   ],
   "source": [
    "df.shape"
   ]
  },
  {
   "cell_type": "code",
   "execution_count": 26,
   "id": "d9da3e8c",
   "metadata": {},
   "outputs": [],
   "source": [
    "del df[\"ult_actual\"]"
   ]
  },
  {
   "cell_type": "code",
   "execution_count": 27,
   "id": "6e81d5c8",
   "metadata": {},
   "outputs": [],
   "source": [
    "X = df.drop([\"gasto_familiar\"], axis = 1)\n",
    "Y = df[\"gasto_familiar\"]"
   ]
  },
  {
   "cell_type": "code",
   "execution_count": 48,
   "id": "8f3b9cd2",
   "metadata": {},
   "outputs": [],
   "source": [
    "from sklearn.model_selection import train_test_split\n",
    "X_train, X_test, y_train, y_test = train_test_split(X, Y, test_size=0.5,random_state=7532)"
   ]
  },
  {
   "cell_type": "code",
   "execution_count": 49,
   "id": "0ba50cac",
   "metadata": {},
   "outputs": [
    {
     "name": "stderr",
     "output_type": "stream",
     "text": [
      "[Parallel(n_jobs=1)]: Using backend SequentialBackend with 1 concurrent workers.\n"
     ]
    },
    {
     "name": "stdout",
     "output_type": "stream",
     "text": [
      "Path: 000 out of 100\n",
      "Path: 001 out of 100\n",
      "Path: 002 out of 100\n",
      "Path: 003 out of 100\n",
      "Path: 004 out of 100\n",
      "Path: 005 out of 100\n",
      "Path: 006 out of 100\n",
      "Path: 007 out of 100\n",
      "Path: 008 out of 100\n",
      "Path: 009 out of 100\n",
      "Path: 010 out of 100\n",
      "Path: 011 out of 100\n",
      "Path: 012 out of 100\n",
      "Path: 013 out of 100\n",
      "Path: 014 out of 100\n",
      "Path: 015 out of 100\n",
      "Path: 016 out of 100\n",
      "Path: 017 out of 100\n",
      "Path: 018 out of 100\n",
      "Path: 019 out of 100\n",
      "Path: 020 out of 100\n",
      "Path: 021 out of 100\n",
      "Path: 022 out of 100\n",
      "Path: 023 out of 100\n",
      "Path: 024 out of 100\n",
      "Path: 025 out of 100\n",
      "Path: 026 out of 100\n",
      "Path: 027 out of 100\n",
      "Path: 028 out of 100\n",
      "Path: 029 out of 100\n",
      "Path: 030 out of 100\n",
      "Path: 031 out of 100\n",
      "Path: 032 out of 100\n",
      "Path: 033 out of 100\n",
      "Path: 034 out of 100\n",
      "Path: 035 out of 100\n",
      "Path: 036 out of 100\n",
      "Path: 037 out of 100\n",
      "Path: 038 out of 100\n",
      "Path: 039 out of 100\n",
      "Path: 040 out of 100\n",
      "Path: 041 out of 100\n",
      "Path: 042 out of 100\n",
      "Path: 043 out of 100\n",
      "Path: 044 out of 100\n",
      "Path: 045 out of 100\n",
      "Path: 046 out of 100\n",
      "Path: 047 out of 100\n",
      "Path: 048 out of 100\n",
      "Path: 049 out of 100\n",
      "Path: 050 out of 100\n",
      "Path: 051 out of 100\n",
      "Path: 052 out of 100\n",
      "Path: 053 out of 100\n",
      "Path: 054 out of 100\n",
      "Path: 055 out of 100\n",
      "Path: 056 out of 100\n",
      "Path: 057 out of 100\n",
      "Path: 058 out of 100\n",
      "Path: 059 out of 100\n",
      "Path: 060 out of 100\n",
      "Path: 061 out of 100\n",
      "Path: 062 out of 100\n",
      "Path: 063 out of 100\n",
      "Path: 064 out of 100\n",
      "Path: 065 out of 100\n",
      "Path: 066 out of 100\n",
      "Path: 067 out of 100\n",
      "Path: 068 out of 100\n",
      "Path: 069 out of 100\n",
      "Path: 070 out of 100\n",
      "Path: 071 out of 100\n",
      "Path: 072 out of 100\n",
      "Path: 073 out of 100\n",
      "Path: 074 out of 100\n",
      "Path: 075 out of 100\n",
      "Path: 076 out of 100\n",
      "Path: 077 out of 100\n",
      "Path: 078 out of 100\n",
      "Path: 079 out of 100\n",
      "Path: 080 out of 100\n",
      "Path: 081 out of 100\n",
      "Path: 082 out of 100\n",
      "Path: 083 out of 100\n",
      "Path: 084 out of 100\n",
      "Path: 085 out of 100\n",
      "Path: 086 out of 100\n",
      "Path: 087 out of 100\n",
      "Path: 088 out of 100\n",
      "Path: 089 out of 100\n",
      "Path: 090 out of 100\n",
      "Path: 091 out of 100\n",
      "Path: 092 out of 100\n",
      "Path: 093 out of 100\n",
      "Path: 094 out of 100\n",
      "Path: 095 out of 100\n",
      "Path: 096 out of 100\n",
      "Path: 097 out of 100\n",
      "Path: 098 out of 100\n",
      "Path: 099 out of 100\n"
     ]
    },
    {
     "name": "stderr",
     "output_type": "stream",
     "text": [
      "[Parallel(n_jobs=1)]: Done   1 out of   1 | elapsed:    1.5s remaining:    0.0s\n"
     ]
    },
    {
     "name": "stdout",
     "output_type": "stream",
     "text": [
      "Path: 000 out of 100\n",
      "Path: 001 out of 100\n",
      "Path: 002 out of 100\n",
      "Path: 003 out of 100\n",
      "Path: 004 out of 100\n",
      "Path: 005 out of 100\n",
      "Path: 006 out of 100\n",
      "Path: 007 out of 100\n",
      "Path: 008 out of 100\n",
      "Path: 009 out of 100\n",
      "Path: 010 out of 100\n",
      "Path: 011 out of 100\n",
      "Path: 012 out of 100\n",
      "Path: 013 out of 100\n",
      "Path: 014 out of 100\n",
      "Path: 015 out of 100\n",
      "Path: 016 out of 100\n",
      "Path: 017 out of 100\n",
      "Path: 018 out of 100\n",
      "Path: 019 out of 100\n",
      "Path: 020 out of 100\n",
      "Path: 021 out of 100\n",
      "Path: 022 out of 100\n",
      "Path: 023 out of 100\n",
      "Path: 024 out of 100\n",
      "Path: 025 out of 100\n",
      "Path: 026 out of 100\n",
      "Path: 027 out of 100\n",
      "Path: 028 out of 100\n",
      "Path: 029 out of 100\n",
      "Path: 030 out of 100\n",
      "Path: 031 out of 100\n",
      "Path: 032 out of 100\n",
      "Path: 033 out of 100\n",
      "Path: 034 out of 100\n",
      "Path: 035 out of 100\n",
      "Path: 036 out of 100\n",
      "Path: 037 out of 100\n",
      "Path: 038 out of 100\n",
      "Path: 039 out of 100\n",
      "Path: 040 out of 100\n",
      "Path: 041 out of 100\n",
      "Path: 042 out of 100\n",
      "Path: 043 out of 100\n",
      "Path: 044 out of 100\n",
      "Path: 045 out of 100\n",
      "Path: 046 out of 100\n",
      "Path: 047 out of 100\n",
      "Path: 048 out of 100\n",
      "Path: 049 out of 100\n",
      "Path: 050 out of 100\n",
      "Path: 051 out of 100\n",
      "Path: 052 out of 100\n",
      "Path: 053 out of 100\n",
      "Path: 054 out of 100\n",
      "Path: 055 out of 100\n",
      "Path: 056 out of 100\n",
      "Path: 057 out of 100\n",
      "Path: 058 out of 100\n",
      "Path: 059 out of 100\n",
      "Path: 060 out of 100\n",
      "Path: 061 out of 100\n",
      "Path: 062 out of 100\n",
      "Path: 063 out of 100\n",
      "Path: 064 out of 100\n",
      "Path: 065 out of 100\n",
      "Path: 066 out of 100\n",
      "Path: 067 out of 100\n",
      "Path: 068 out of 100\n",
      "Path: 069 out of 100\n",
      "Path: 070 out of 100\n",
      "Path: 071 out of 100\n",
      "Path: 072 out of 100\n",
      "Path: 073 out of 100\n",
      "Path: 074 out of 100\n",
      "Path: 075 out of 100\n",
      "Path: 076 out of 100\n",
      "Path: 077 out of 100\n",
      "Path: 078 out of 100\n",
      "Path: 079 out of 100\n",
      "Path: 080 out of 100\n",
      "Path: 081 out of 100\n",
      "Path: 082 out of 100\n",
      "Path: 083 out of 100\n",
      "Path: 084 out of 100\n",
      "Path: 085 out of 100\n",
      "Path: 086 out of 100\n",
      "Path: 087 out of 100\n",
      "Path: 088 out of 100\n",
      "Path: 089 out of 100\n",
      "Path: 090 out of 100\n",
      "Path: 091 out of 100\n",
      "Path: 092 out of 100\n",
      "Path: 093 out of 100\n",
      "Path: 094 out of 100\n",
      "Path: 095 out of 100\n",
      "Path: 096 out of 100\n",
      "Path: 097 out of 100\n",
      "Path: 098 out of 100\n",
      "Path: 099 out of 100\n",
      "Path: 000 out of 100\n",
      "Path: 001 out of 100\n",
      "Path: 002 out of 100\n",
      "Path: 003 out of 100\n",
      "Path: 004 out of 100\n",
      "Path: 005 out of 100\n",
      "Path: 006 out of 100\n",
      "Path: 007 out of 100\n",
      "Path: 008 out of 100\n",
      "Path: 009 out of 100\n",
      "Path: 010 out of 100\n",
      "Path: 011 out of 100\n",
      "Path: 012 out of 100\n",
      "Path: 013 out of 100\n",
      "Path: 014 out of 100\n",
      "Path: 015 out of 100\n",
      "Path: 016 out of 100\n",
      "Path: 017 out of 100\n",
      "Path: 018 out of 100\n",
      "Path: 019 out of 100\n",
      "Path: 020 out of 100\n",
      "Path: 021 out of 100\n",
      "Path: 022 out of 100\n",
      "Path: 023 out of 100\n",
      "Path: 024 out of 100\n",
      "Path: 025 out of 100\n",
      "Path: 026 out of 100\n",
      "Path: 027 out of 100\n",
      "Path: 028 out of 100\n",
      "Path: 029 out of 100\n",
      "Path: 030 out of 100\n",
      "Path: 031 out of 100\n",
      "Path: 032 out of 100\n",
      "Path: 033 out of 100\n",
      "Path: 034 out of 100\n",
      "Path: 035 out of 100\n",
      "Path: 036 out of 100\n",
      "Path: 037 out of 100\n",
      "Path: 038 out of 100\n",
      "Path: 039 out of 100\n",
      "Path: 040 out of 100\n",
      "Path: 041 out of 100\n",
      "Path: 042 out of 100\n",
      "Path: 043 out of 100\n",
      "Path: 044 out of 100\n",
      "Path: 045 out of 100\n",
      "Path: 046 out of 100\n",
      "Path: 047 out of 100\n",
      "Path: 048 out of 100\n",
      "Path: 049 out of 100\n",
      "Path: 050 out of 100\n",
      "Path: 051 out of 100\n",
      "Path: 052 out of 100\n",
      "Path: 053 out of 100\n",
      "Path: 054 out of 100\n",
      "Path: 055 out of 100\n",
      "Path: 056 out of 100\n",
      "Path: 057 out of 100\n",
      "Path: 058 out of 100\n",
      "Path: 059 out of 100\n",
      "Path: 060 out of 100\n",
      "Path: 061 out of 100\n",
      "Path: 062 out of 100\n",
      "Path: 063 out of 100\n",
      "Path: 064 out of 100\n",
      "Path: 065 out of 100\n",
      "Path: 066 out of 100\n",
      "Path: 067 out of 100\n",
      "Path: 068 out of 100\n",
      "Path: 069 out of 100\n",
      "Path: 070 out of 100\n",
      "Path: 071 out of 100\n",
      "Path: 072 out of 100\n",
      "Path: 073 out of 100\n",
      "Path: 074 out of 100\n",
      "Path: 075 out of 100\n",
      "Path: 076 out of 100\n",
      "Path: 077 out of 100\n",
      "Path: 078 out of 100\n",
      "Path: 079 out of 100\n",
      "Path: 080 out of 100\n",
      "Path: 081 out of 100\n",
      "Path: 082 out of 100\n",
      "Path: 083 out of 100\n",
      "Path: 084 out of 100\n",
      "Path: 085 out of 100\n",
      "Path: 086 out of 100\n",
      "Path: 087 out of 100\n",
      "Path: 088 out of 100\n",
      "Path: 089 out of 100\n",
      "Path: 090 out of 100\n",
      "Path: 091 out of 100\n",
      "Path: 092 out of 100\n",
      "Path: 093 out of 100\n",
      "Path: 094 out of 100\n",
      "Path: 095 out of 100\n",
      "Path: 096 out of 100\n",
      "Path: 097 out of 100\n",
      "Path: 098 out of 100\n",
      "Path: 099 out of 100\n",
      "Path: 000 out of 100\n",
      "Path: 001 out of 100\n",
      "Path: 002 out of 100\n",
      "Path: 003 out of 100\n",
      "Path: 004 out of 100\n",
      "Path: 005 out of 100\n",
      "Path: 006 out of 100\n",
      "Path: 007 out of 100\n",
      "Path: 008 out of 100\n",
      "Path: 009 out of 100\n",
      "Path: 010 out of 100\n",
      "Path: 011 out of 100\n",
      "Path: 012 out of 100\n",
      "Path: 013 out of 100\n",
      "Path: 014 out of 100\n",
      "Path: 015 out of 100\n",
      "Path: 016 out of 100\n",
      "Path: 017 out of 100\n",
      "Path: 018 out of 100\n",
      "Path: 019 out of 100\n",
      "Path: 020 out of 100\n",
      "Path: 021 out of 100\n",
      "Path: 022 out of 100\n",
      "Path: 023 out of 100\n",
      "Path: 024 out of 100\n",
      "Path: 025 out of 100\n",
      "Path: 026 out of 100\n",
      "Path: 027 out of 100\n",
      "Path: 028 out of 100\n",
      "Path: 029 out of 100\n",
      "Path: 030 out of 100\n",
      "Path: 031 out of 100\n",
      "Path: 032 out of 100\n",
      "Path: 033 out of 100\n",
      "Path: 034 out of 100\n",
      "Path: 035 out of 100\n",
      "Path: 036 out of 100\n",
      "Path: 037 out of 100\n",
      "Path: 038 out of 100\n",
      "Path: 039 out of 100\n",
      "Path: 040 out of 100\n",
      "Path: 041 out of 100\n",
      "Path: 042 out of 100\n",
      "Path: 043 out of 100\n",
      "Path: 044 out of 100\n",
      "Path: 045 out of 100\n",
      "Path: 046 out of 100\n",
      "Path: 047 out of 100\n",
      "Path: 048 out of 100\n",
      "Path: 049 out of 100\n",
      "Path: 050 out of 100\n",
      "Path: 051 out of 100\n",
      "Path: 052 out of 100\n",
      "Path: 053 out of 100\n",
      "Path: 054 out of 100\n",
      "Path: 055 out of 100\n",
      "Path: 056 out of 100\n",
      "Path: 057 out of 100\n",
      "Path: 058 out of 100\n",
      "Path: 059 out of 100\n",
      "Path: 060 out of 100\n",
      "Path: 061 out of 100\n",
      "Path: 062 out of 100\n",
      "Path: 063 out of 100\n",
      "Path: 064 out of 100\n",
      "Path: 065 out of 100\n",
      "Path: 066 out of 100\n",
      "Path: 067 out of 100\n",
      "Path: 068 out of 100\n",
      "Path: 069 out of 100\n",
      "Path: 070 out of 100\n",
      "Path: 071 out of 100\n",
      "Path: 072 out of 100\n",
      "Path: 073 out of 100\n",
      "Path: 074 out of 100\n",
      "Path: 075 out of 100\n",
      "Path: 076 out of 100\n",
      "Path: 077 out of 100\n",
      "Path: 078 out of 100\n",
      "Path: 079 out of 100\n",
      "Path: 080 out of 100\n",
      "Path: 081 out of 100\n",
      "Path: 082 out of 100\n",
      "Path: 083 out of 100\n",
      "Path: 084 out of 100\n",
      "Path: 085 out of 100\n",
      "Path: 086 out of 100\n",
      "Path: 087 out of 100\n",
      "Path: 088 out of 100\n",
      "Path: 089 out of 100\n",
      "Path: 090 out of 100\n",
      "Path: 091 out of 100\n",
      "Path: 092 out of 100\n",
      "Path: 093 out of 100\n",
      "Path: 094 out of 100\n",
      "Path: 095 out of 100\n",
      "Path: 096 out of 100\n",
      "Path: 097 out of 100\n",
      "Path: 098 out of 100\n",
      "Path: 099 out of 100\n",
      "Path: 000 out of 100\n",
      "Path: 001 out of 100\n",
      "Path: 002 out of 100\n",
      "Path: 003 out of 100\n",
      "Path: 004 out of 100\n",
      "Path: 005 out of 100\n",
      "Path: 006 out of 100\n",
      "Path: 007 out of 100\n",
      "Path: 008 out of 100\n",
      "Path: 009 out of 100\n",
      "Path: 010 out of 100\n",
      "Path: 011 out of 100\n",
      "Path: 012 out of 100\n",
      "Path: 013 out of 100\n",
      "Path: 014 out of 100\n",
      "Path: 015 out of 100\n",
      "Path: 016 out of 100\n",
      "Path: 017 out of 100\n",
      "Path: 018 out of 100\n",
      "Path: 019 out of 100\n",
      "Path: 020 out of 100\n",
      "Path: 021 out of 100\n",
      "Path: 022 out of 100\n",
      "Path: 023 out of 100\n",
      "Path: 024 out of 100\n",
      "Path: 025 out of 100\n",
      "Path: 026 out of 100\n",
      "Path: 027 out of 100\n",
      "Path: 028 out of 100\n",
      "Path: 029 out of 100\n",
      "Path: 030 out of 100\n",
      "Path: 031 out of 100\n",
      "Path: 032 out of 100\n",
      "Path: 033 out of 100\n",
      "Path: 034 out of 100\n",
      "Path: 035 out of 100\n",
      "Path: 036 out of 100\n",
      "Path: 037 out of 100\n",
      "Path: 038 out of 100\n",
      "Path: 039 out of 100\n",
      "Path: 040 out of 100\n",
      "Path: 041 out of 100\n",
      "Path: 042 out of 100\n",
      "Path: 043 out of 100\n",
      "Path: 044 out of 100\n",
      "Path: 045 out of 100\n",
      "Path: 046 out of 100\n",
      "Path: 047 out of 100\n",
      "Path: 048 out of 100\n",
      "Path: 049 out of 100\n",
      "Path: 050 out of 100\n",
      "Path: 051 out of 100\n",
      "Path: 052 out of 100\n",
      "Path: 053 out of 100\n",
      "Path: 054 out of 100\n",
      "Path: 055 out of 100\n",
      "Path: 056 out of 100\n",
      "Path: 057 out of 100\n",
      "Path: 058 out of 100\n",
      "Path: 059 out of 100\n",
      "Path: 060 out of 100\n",
      "Path: 061 out of 100\n",
      "Path: 062 out of 100\n",
      "Path: 063 out of 100\n",
      "Path: 064 out of 100\n",
      "Path: 065 out of 100\n",
      "Path: 066 out of 100\n",
      "Path: 067 out of 100\n",
      "Path: 068 out of 100\n",
      "Path: 069 out of 100\n",
      "Path: 070 out of 100\n",
      "Path: 071 out of 100\n",
      "Path: 072 out of 100\n",
      "Path: 073 out of 100\n",
      "Path: 074 out of 100\n",
      "Path: 075 out of 100\n",
      "Path: 076 out of 100\n",
      "Path: 077 out of 100\n",
      "Path: 078 out of 100\n",
      "Path: 079 out of 100\n",
      "Path: 080 out of 100\n",
      "Path: 081 out of 100\n",
      "Path: 082 out of 100\n",
      "Path: 083 out of 100\n",
      "Path: 084 out of 100\n",
      "Path: 085 out of 100\n",
      "Path: 086 out of 100\n",
      "Path: 087 out of 100\n",
      "Path: 088 out of 100\n",
      "Path: 089 out of 100\n",
      "Path: 090 out of 100\n",
      "Path: 091 out of 100\n",
      "Path: 092 out of 100\n",
      "Path: 093 out of 100\n",
      "Path: 094 out of 100\n",
      "Path: 095 out of 100\n",
      "Path: 096 out of 100\n",
      "Path: 097 out of 100\n",
      "Path: 098 out of 100\n",
      "Path: 099 out of 100\n"
     ]
    },
    {
     "name": "stderr",
     "output_type": "stream",
     "text": [
      "[Parallel(n_jobs=1)]: Done   5 out of   5 | elapsed:    7.2s finished\n"
     ]
    },
    {
     "data": {
      "text/plain": [
       "ElasticNetCV(random_state=0, verbose=2)"
      ]
     },
     "execution_count": 49,
     "metadata": {},
     "output_type": "execute_result"
    }
   ],
   "source": [
    "from sklearn.linear_model import ElasticNetCV\n",
    "\n",
    "ENReg = ElasticNetCV(random_state = 0, verbose = 2)\n",
    "ENReg.fit(X_train, y_train)"
   ]
  },
  {
   "cell_type": "code",
   "execution_count": 50,
   "id": "7a2f2f01",
   "metadata": {},
   "outputs": [
    {
     "data": {
      "text/plain": [
       "0.09129071401223032"
      ]
     },
     "execution_count": 50,
     "metadata": {},
     "output_type": "execute_result"
    }
   ],
   "source": [
    "ENReg.score(X_test, y_test)"
   ]
  },
  {
   "cell_type": "code",
   "execution_count": 51,
   "id": "f9bd17ed",
   "metadata": {},
   "outputs": [],
   "source": [
    "def mean_absolute_percentage_error(y_pred, y_true):\n",
    "    y_true = np.where(y_true == 0, 0.0000000001, y_true)\n",
    "    return np.mean(np.abs((y_true - y_pred) / y_true))"
   ]
  },
  {
   "cell_type": "code",
   "execution_count": 52,
   "id": "f15ca427",
   "metadata": {},
   "outputs": [],
   "source": [
    "y_pred = ENReg.predict(X_test)"
   ]
  },
  {
   "cell_type": "code",
   "execution_count": 53,
   "id": "c90ba45d",
   "metadata": {},
   "outputs": [
    {
     "data": {
      "text/plain": [
       "42.34437409255928"
      ]
     },
     "execution_count": 53,
     "metadata": {},
     "output_type": "execute_result"
    }
   ],
   "source": [
    "mape = mean_absolute_percentage_error(y_pred, y_test)\n",
    "mape"
   ]
  },
  {
   "cell_type": "code",
   "execution_count": 54,
   "id": "55db3bf2",
   "metadata": {},
   "outputs": [
    {
     "name": "stdout",
     "output_type": "stream",
     "text": [
      "      Iter       Train Loss   Remaining Time \n",
      "         1 491800481500.6761            9.79m\n",
      "         2 483397578049.1136            9.35m\n",
      "         3 476535753579.5554            9.10m\n",
      "         4 470910221754.6840            8.97m\n",
      "         5 466323908822.2104            8.86m\n",
      "         6 462572948601.2571            8.76m\n",
      "         7 459498136569.5969            8.63m\n",
      "         8 456949713674.2809            8.54m\n",
      "         9 454876973935.5244            8.50m\n",
      "        10 453136760512.7732            8.44m\n",
      "        11 451718506071.7607            8.42m\n",
      "        12 450510702410.9222            8.33m\n",
      "        13 449498635787.8579            8.29m\n",
      "        14 448638609490.1752            8.23m\n",
      "        15 447940738717.4778            8.15m\n",
      "        16 447334155442.8420            8.04m\n",
      "        17 446818860562.2354            7.93m\n",
      "        18 446372653596.5560            7.81m\n",
      "        19 445971554226.3055            7.70m\n",
      "        20 445641577392.4167            7.58m\n",
      "        21 445345631067.8782            7.48m\n",
      "        22 445085625604.9318            7.38m\n",
      "        23 444834088304.8157            7.27m\n",
      "        24 444618947771.4219            7.16m\n",
      "        25 444422728548.3231            7.06m\n",
      "        26 444248722928.2668            6.95m\n",
      "        27 444097725461.9344            6.84m\n",
      "        28 443953208876.7695            6.74m\n",
      "        29 443814051142.8594            6.63m\n",
      "        30 443690182633.0401            6.53m\n",
      "        31 443576018750.4384            6.43m\n",
      "        32 443472469478.0867            6.33m\n",
      "        33 443357366509.5918            6.23m\n",
      "        34 443239912196.3576            6.13m\n",
      "        35 443144418126.1046            6.03m\n",
      "        36 443050509882.6152            5.93m\n",
      "        37 442966038335.7062            5.83m\n",
      "        38 442888841755.7991            5.73m\n",
      "        39 442810905615.5176            5.63m\n",
      "        40 442735574276.6687            5.54m\n",
      "        41 442657107029.2200            5.44m\n",
      "        42 442598275328.1634            5.34m\n",
      "        43 442531637701.8793            5.25m\n",
      "        44 442462631565.2062            5.16m\n",
      "        45 442383573324.1070            5.06m\n",
      "        46 442322777870.1224            4.97m\n",
      "        47 442268800131.8095            4.87m\n",
      "        48 442196693178.2313            4.78m\n",
      "        49 442139859125.5577            4.68m\n",
      "        50 442087070558.1461            4.59m\n",
      "        51 442022475463.5036            4.49m\n",
      "        52 441975115783.8224            4.40m\n",
      "        53 441926975569.5122            4.31m\n",
      "        54 441881887439.3524            4.21m\n",
      "        55 441827147037.5193            4.12m\n",
      "        56 441783825292.0471            4.03m\n",
      "        57 441745416237.3337            3.94m\n",
      "        58 441704350949.2792            3.84m\n",
      "        59 441657142837.8174            3.75m\n",
      "        60 441607979115.2930            3.66m\n",
      "        61 441562961516.1898            3.57m\n",
      "        62 441527305300.2386            3.47m\n",
      "        63 441496285100.7828            3.38m\n",
      "        64 441447933327.3053            3.29m\n",
      "        65 441410729674.6236            3.20m\n",
      "        66 441356987260.4290            3.11m\n",
      "        67 441323524715.7085            3.02m\n",
      "        68 441280191718.2394            2.93m\n",
      "        69 441261963959.6693            2.84m\n",
      "        70 441201137081.1397            2.75m\n",
      "        71 441160399795.2516            2.66m\n",
      "        72 441117780818.5392            2.59m\n",
      "        73 441094754945.1116            2.50m\n",
      "        74 441072840341.0894            2.41m\n",
      "        75 441037851974.6901            2.32m\n",
      "        76 440990959757.6041            2.22m\n",
      "        77 440948897141.9449            2.13m\n",
      "        78 440935567243.6157            2.04m\n",
      "        79 440900984068.4481            1.95m\n",
      "        80 440860090261.5203            1.86m\n",
      "        81 440822606684.4005            1.76m\n",
      "        82 440791864964.5528            1.67m\n",
      "        83 440768282445.6172            1.58m\n",
      "        84 440726490437.4899            1.48m\n",
      "        85 440692332633.3770            1.39m\n",
      "        86 440669270358.8275            1.30m\n",
      "        87 440653459333.0822            1.20m\n",
      "        88 440625803066.1294            1.11m\n",
      "        89 440621839436.2270            1.02m\n",
      "        90 440582642685.2344           55.58s\n",
      "        91 440549734731.2879           50.00s\n",
      "        92 440504827784.6131           44.42s\n",
      "        93 440463449468.2184           38.86s\n",
      "        94 440438865931.8848           33.30s\n",
      "        95 440404696836.5067           27.74s\n",
      "        96 440390434634.5151           22.18s\n",
      "        97 440378853584.3643           16.63s\n",
      "        98 440353442416.4866           11.08s\n",
      "        99 440322022016.9739            5.54s\n",
      "       100 440291996840.2268            0.00s\n"
     ]
    }
   ],
   "source": [
    "from sklearn.ensemble import GradientBoostingRegressor\n",
    "\n",
    "params = {'n_estimators': 100, 'max_depth': 5, 'verbose': 2}\n",
    "\n",
    "GBReg = GradientBoostingRegressor(**params).fit(X_train, y_train)"
   ]
  },
  {
   "cell_type": "code",
   "execution_count": 55,
   "id": "2b34c883",
   "metadata": {},
   "outputs": [
    {
     "data": {
      "text/plain": [
       "0.11933393105909174"
      ]
     },
     "execution_count": 55,
     "metadata": {},
     "output_type": "execute_result"
    }
   ],
   "source": [
    "GBReg.score(X_test, y_test)"
   ]
  },
  {
   "cell_type": "code",
   "execution_count": 56,
   "id": "cd100645",
   "metadata": {},
   "outputs": [],
   "source": [
    "y_pred = GBReg.predict(X_test)"
   ]
  },
  {
   "cell_type": "code",
   "execution_count": 57,
   "id": "1477caee",
   "metadata": {},
   "outputs": [
    {
     "data": {
      "text/plain": [
       "4423.072205448262"
      ]
     },
     "execution_count": 57,
     "metadata": {},
     "output_type": "execute_result"
    }
   ],
   "source": [
    "mape = mean_absolute_percentage_error(y_pred, y_test)\n",
    "mape"
   ]
  },
  {
   "cell_type": "code",
   "execution_count": null,
   "id": "8c415515",
   "metadata": {},
   "outputs": [
    {
     "name": "stdout",
     "output_type": "stream",
     "text": [
      "[LibSVM]."
     ]
    }
   ],
   "source": [
    "from sklearn.svm import SVR\n",
    "from sklearn.preprocessing import StandardScaler\n",
    "from sklearn.pipeline import make_pipeline\n",
    "\n",
    "regr = make_pipeline(StandardScaler(), SVR(C=1.0, epsilon=0.2, verbose=True))\n",
    "regr.fit(X_train, y_train)"
   ]
  },
  {
   "cell_type": "code",
   "execution_count": null,
   "id": "9cbfa1e0",
   "metadata": {},
   "outputs": [],
   "source": [
    "y_pred = regr.predict(X_test)\n",
    "mape = mean_absolute_percentage_error(y_test, y_pred)\n",
    "print(f\"El MAPE es :{mape}\")"
   ]
  },
  {
   "cell_type": "code",
   "execution_count": null,
   "id": "27ebdc53",
   "metadata": {},
   "outputs": [],
   "source": []
  }
 ],
 "metadata": {
  "kernelspec": {
   "display_name": "Python 3 (ipykernel)",
   "language": "python",
   "name": "python3"
  },
  "language_info": {
   "codemirror_mode": {
    "name": "ipython",
    "version": 3
   },
   "file_extension": ".py",
   "mimetype": "text/x-python",
   "name": "python",
   "nbconvert_exporter": "python",
   "pygments_lexer": "ipython3",
   "version": "3.8.10"
  }
 },
 "nbformat": 4,
 "nbformat_minor": 5
}
